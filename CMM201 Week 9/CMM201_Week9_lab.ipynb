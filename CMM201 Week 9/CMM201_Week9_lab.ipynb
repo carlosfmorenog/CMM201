{
 "cells": [
  {
   "cell_type": "markdown",
   "metadata": {},
   "source": [
    "First, download image \"logo.png\" from Moodle, which correspond to a grayscale version of the Python logo. Save these file **in the same directory as this Jupyter notebook**."
   ]
  },
  {
   "cell_type": "markdown",
   "metadata": {},
   "source": [
    "To work with images in Python, we will use packages such as **numpy**, **PIL**, **skimage** and **matplotlib**. Execute the code in the following cell to install these packages using the *pip* command (remember that we add the ! since this command is used in the terminal):"
   ]
  },
  {
   "cell_type": "code",
   "execution_count": null,
   "metadata": {},
   "outputs": [],
   "source": [
    "!pip install pillow\n",
    "!pip install matplotlib\n",
    "!pip install scikit-image"
   ]
  },
  {
   "cell_type": "markdown",
   "metadata": {},
   "source": [
    "Notice that we did not install numpy due to the following reasons:\n",
    "* You have installed it before during class (and there is no need to install it again).\n",
    "* Sometimes packages include sub-packages. Such is the case of the three previous ones, which already contain numpy."
   ]
  },
  {
   "cell_type": "markdown",
   "metadata": {},
   "source": [
    "## Importing the modules"
   ]
  },
  {
   "cell_type": "markdown",
   "metadata": {},
   "source": [
    "Now we will import the packages, functions and classes we will use for this activity:"
   ]
  },
  {
   "cell_type": "markdown",
   "metadata": {},
   "source": [
    "* The first one is the **Image** class from the **PIL** module (which comes in the **pillow** package). For this, we will execute the following command:"
   ]
  },
  {
   "cell_type": "code",
   "execution_count": null,
   "metadata": {
    "collapsed": true
   },
   "outputs": [],
   "source": [
    "from PIL import Image"
   ]
  },
  {
   "cell_type": "markdown",
   "metadata": {},
   "source": [
    "* To handle and perform operations on the images, we need **numpy**, which can be imported by executing the command we saw in class:"
   ]
  },
  {
   "cell_type": "code",
   "execution_count": null,
   "metadata": {
    "collapsed": true
   },
   "outputs": [],
   "source": [
    "import numpy as np"
   ]
  },
  {
   "cell_type": "markdown",
   "metadata": {},
   "source": [
    "* To plot the images, we will use **matplotlib.pyplot** through the pseudonym **plt**:"
   ]
  },
  {
   "cell_type": "code",
   "execution_count": null,
   "metadata": {
    "collapsed": true
   },
   "outputs": [],
   "source": [
    "import matplotlib.pyplot as plt"
   ]
  },
  {
   "cell_type": "markdown",
   "metadata": {},
   "source": [
    "## Working with Grayscale Images"
   ]
  },
  {
   "cell_type": "markdown",
   "metadata": {},
   "source": [
    "Now it's time to import the grayscale logo to Python. To do so, we can use the **open** function from the **Image** class, storing the image in a variable called **img**:"
   ]
  },
  {
   "cell_type": "code",
   "execution_count": null,
   "metadata": {
    "collapsed": true
   },
   "outputs": [],
   "source": [
    "img = Image.open(\"logo.png\")"
   ]
  },
  {
   "cell_type": "markdown",
   "metadata": {},
   "source": [
    "If we check the type of the image, we will see that it belongs to a weird **PIL.Image...** type."
   ]
  },
  {
   "cell_type": "code",
   "execution_count": null,
   "metadata": {},
   "outputs": [],
   "source": [
    "type(img)"
   ]
  },
  {
   "cell_type": "markdown",
   "metadata": {},
   "source": [
    "To manipulate the image, we need to convert it into a numpy array. To do so, we can use the following command:"
   ]
  },
  {
   "cell_type": "code",
   "execution_count": null,
   "metadata": {
    "collapsed": true
   },
   "outputs": [],
   "source": [
    "img = np.array(img)"
   ]
  },
  {
   "cell_type": "markdown",
   "metadata": {},
   "source": [
    "Now check the type of img in the following cell:"
   ]
  },
  {
   "cell_type": "code",
   "execution_count": null,
   "metadata": {},
   "outputs": [],
   "source": [
    "type(img)"
   ]
  },
  {
   "cell_type": "markdown",
   "metadata": {},
   "source": [
    "One particularity of the Image.open() function is that, by default, it imports all images as colour ones! This means that although the file contains a grayscale image, the numpy array that we have imported has three dimensions (keep in mind that images within the computer are typically composed of three channels: red, green and blue). An example of this is shown by running the following code (don't get too much into it, just run it!):"
   ]
  },
  {
   "cell_type": "code",
   "execution_count": null,
   "metadata": {},
   "outputs": [],
   "source": [
    "from skimage import data\n",
    "cat = np.asarray(data.chelsea())\n",
    "print(im.shape)\n",
    "cat_R = im.copy()\n",
    "cat_R[:, :, (1, 2)] = 0\n",
    "cat_G = im.copy()\n",
    "cat_G[:, :, (0, 2)] = 0\n",
    "cat_B = im.copy()\n",
    "cat_B[:, :, (0, 1)] = 0\n",
    "cat_RGB = np.concatenate((cat, cat_R, cat_G, cat_B), axis=1)\n",
    "plt.imshow(cat_RGB)"
   ]
  },
  {
   "cell_type": "markdown",
   "metadata": {},
   "source": [
    "Therefore, if we check the dimensions of **img**, we will see that it has three (one per channel):"
   ]
  },
  {
   "cell_type": "code",
   "execution_count": null,
   "metadata": {},
   "outputs": [],
   "source": [
    "print(img.ndim)"
   ]
  },
  {
   "cell_type": "markdown",
   "metadata": {},
   "source": [
    "At this stage we don't want this, therefore we will use another module to import the image as a *grayscale image*. Therefore, we will use the **color** and **io** classes from **scikit-image** (referred to as **skimage**) to import the grayscale image into the **img** variable using the following code:"
   ]
  },
  {
   "cell_type": "code",
   "execution_count": null,
   "metadata": {
    "collapsed": true
   },
   "outputs": [],
   "source": [
    "from skimage import color\n",
    "from skimage import io\n",
    "\n",
    "img = color.rgb2gray(io.imread('logo.png'))"
   ]
  },
  {
   "cell_type": "markdown",
   "metadata": {},
   "source": [
    "Now check the type and the dimensions of **img** to verify that now it stores a two-dimensional numpy array."
   ]
  },
  {
   "cell_type": "code",
   "execution_count": null,
   "metadata": {},
   "outputs": [],
   "source": [
    "## Use this cell to print the type and the dimension of img\n"
   ]
  },
  {
   "cell_type": "markdown",
   "metadata": {},
   "source": [
    "You can also check the number of pixels that the image contains. Notice that the original file is a 75x75 pixel sized image, and therefore your **img** numpy array should have that same size."
   ]
  },
  {
   "cell_type": "code",
   "execution_count": null,
   "metadata": {},
   "outputs": [],
   "source": [
    "img.shape"
   ]
  },
  {
   "cell_type": "markdown",
   "metadata": {},
   "source": [
    "What would happen if we print **img**? Are we able to see the image? Run the following cell to find out!"
   ]
  },
  {
   "cell_type": "code",
   "execution_count": null,
   "metadata": {
    "scrolled": true
   },
   "outputs": [],
   "source": [
    "print(img)"
   ]
  },
  {
   "cell_type": "markdown",
   "metadata": {},
   "source": [
    "Notice that we only see a bunch of \"ones\" in lists. This is because for now, the image is a numpy array with values from 0 to 1, where 0 represents black and 1 represents white. Since the print command only shows us the \"corners\" of the numpy array, we are only able to see the white corners of the images (hence the ones)."
   ]
  },
  {
   "cell_type": "markdown",
   "metadata": {},
   "source": [
    "To show the actual image, we can use the **plt.imshow** function from the **matplotlib.pyplot** library as follows:"
   ]
  },
  {
   "cell_type": "code",
   "execution_count": null,
   "metadata": {},
   "outputs": [],
   "source": [
    "plt.imshow(img)"
   ]
  },
  {
   "cell_type": "markdown",
   "metadata": {},
   "source": [
    "It is likely that the image has a yellow background. This will help us to better identify the background pixels."
   ]
  },
  {
   "cell_type": "markdown",
   "metadata": {},
   "source": [
    "### Locating the value of pixels"
   ]
  },
  {
   "cell_type": "markdown",
   "metadata": {},
   "source": [
    "Notice that the image is shown with a coordinate plane which gives us an idea of the positions of the pixels within the logo. Given that this is a 75x75 image, we can access different positions of the image to see their value. For instance, to see the value of the left-top pixel we can use the following command:"
   ]
  },
  {
   "cell_type": "code",
   "execution_count": null,
   "metadata": {},
   "outputs": [],
   "source": [
    "print(img[0,0])"
   ]
  },
  {
   "cell_type": "markdown",
   "metadata": {},
   "source": [
    "The first zero corresponds to the y-axis (rows) and the second zero corresponds to the x-axis (columns). We can use the same command to see different positions of the image. For instance, you can see the value of the other corners or some values from the two pythons."
   ]
  },
  {
   "cell_type": "code",
   "execution_count": null,
   "metadata": {},
   "outputs": [],
   "source": [
    "## Use this cell to print the values of different pixels\n"
   ]
  },
  {
   "cell_type": "markdown",
   "metadata": {},
   "source": [
    "Write down the numerical values corresponding to each of the pythons' bodies. We will use this information later!"
   ]
  },
  {
   "cell_type": "markdown",
   "metadata": {},
   "source": [
    "### Changing the value of pixels"
   ]
  },
  {
   "cell_type": "markdown",
   "metadata": {},
   "source": [
    "It is also possible to change the value of a pixel. To do so, you can assign a new value to a certain location. For instance, we can paint the top-left pixel (coordinate 0,0) in black with the following code:"
   ]
  },
  {
   "cell_type": "code",
   "execution_count": null,
   "metadata": {},
   "outputs": [],
   "source": [
    "img[0,0]=0\n",
    "print(img)\n",
    "plt.imshow(img)"
   ]
  },
  {
   "cell_type": "markdown",
   "metadata": {},
   "source": [
    "### Trimming the image"
   ]
  },
  {
   "cell_type": "markdown",
   "metadata": {},
   "source": [
    "We can also slice the image and create a new, smaller one. For instance, say that we want to produce a new image only with the face of the dark-coloured Python. To do so, we first need to analyse the image and calculate the approximate position of the **top-left** corner of the square we want to cut. In this case, it could be the coordinate in the **row 8** and in the **column 18**. Then, we need to see where we want that square to end (i.e. **bottom-right** corner). In this case, it is around **row 24** and **column 36**. Now, we can use the following code to produce a trimmed image called **img_trimdark** with the face of the dark-coloured Python."
   ]
  },
  {
   "cell_type": "code",
   "execution_count": null,
   "metadata": {},
   "outputs": [],
   "source": [
    "img_trimdark = img[8:24,18:36] # rows go first, columns go after\n",
    "plt.imshow(img_trimdark)"
   ]
  },
  {
   "cell_type": "markdown",
   "metadata": {},
   "source": [
    "Now it's your turn to create a trimmed image called **img_trimlight** with the face of the light-coloured python."
   ]
  },
  {
   "cell_type": "code",
   "execution_count": null,
   "metadata": {},
   "outputs": [],
   "source": [
    "## Use this cell to create img_trimlight\n"
   ]
  },
  {
   "cell_type": "markdown",
   "metadata": {},
   "source": [
    "### Inverting the image"
   ]
  },
  {
   "cell_type": "markdown",
   "metadata": {},
   "source": [
    "We can also create the *negative* of an image by doing the following:"
   ]
  },
  {
   "cell_type": "code",
   "execution_count": null,
   "metadata": {},
   "outputs": [],
   "source": [
    "img_neg = 1 - img\n",
    "plt.imshow(img_neg)"
   ]
  },
  {
   "cell_type": "markdown",
   "metadata": {},
   "source": [
    "By subtracting 1 minus the original image, basically what we are doing is converting all ones to zeros, all zeros to ones, and all values in between to their opposite value in terms of how far they are to 0 or 1."
   ]
  },
  {
   "cell_type": "markdown",
   "metadata": {},
   "source": [
    "### Transposing the image"
   ]
  },
  {
   "cell_type": "markdown",
   "metadata": {},
   "source": [
    "There is a mathematical operation called **transpose** which lets you exchange the columns and the rows of a matrix. This function is also included in the numpy module, and it can be applied to image arrays as well:"
   ]
  },
  {
   "cell_type": "code",
   "execution_count": null,
   "metadata": {},
   "outputs": [],
   "source": [
    "img_trans = img.transpose()\n",
    "plt.imshow(img_trans)"
   ]
  },
  {
   "cell_type": "markdown",
   "metadata": {},
   "source": [
    "Notice that the new image is turned 90 degrees counter-clockwise and has also been flipped vertically."
   ]
  },
  {
   "cell_type": "markdown",
   "metadata": {},
   "source": [
    "### Binarising the image"
   ]
  },
  {
   "cell_type": "markdown",
   "metadata": {},
   "source": [
    "In computer vision, there are times where you want the image to be just black and white instead of grayscale. This is useful when you want to clearly recognise shapes or when you want to get rid of noise. In this case, image binarisation could be used with two purposes:\n",
    "* Make both pythons black by converting all gray pixels into black.\n",
    "* Make the light python disappear by converting all light gray pixels into white."
   ]
  },
  {
   "cell_type": "markdown",
   "metadata": {},
   "source": [
    "Remember you wrote down the values of the pixels of both pythons? Now it's time to put this information into use! To design our binarisation function, we need to consider the following:\n",
    "1. The function has two inputs: the **image to binarise** and the **threshold**, which is a cut-off value between 0 and 1.\n",
    "2. The function has to iterate the numpy array for all rows and columns.\n",
    "3. For each position, the system has to compare the value of the pixel with the threshold. If the value of the pixel is *smaller* than the threshold, then we change the value of the pixel to zero. Else, we change it to one.\n",
    "4. To avoid losing the original image, you can create a copy of it and change the copy, not the original one! (hint: use the .copy() function to do so).\n",
    "5. Notice that depending on the threshold value selected, you will get different outputs!"
   ]
  },
  {
   "cell_type": "code",
   "execution_count": null,
   "metadata": {
    "collapsed": true
   },
   "outputs": [],
   "source": [
    "## Use this cell to create the binarisation function\n",
    "def binarise(img, threshold):\n",
    "    '''This function biniarises an image in a numpy array according to the specified threshold'''\n",
    "\n",
    "    return img_bin"
   ]
  },
  {
   "cell_type": "code",
   "execution_count": null,
   "metadata": {},
   "outputs": [],
   "source": [
    "## Use this cell to execute the binarise function and show both pythons black.\n"
   ]
  },
  {
   "cell_type": "code",
   "execution_count": null,
   "metadata": {},
   "outputs": [],
   "source": [
    "## Use this cell to execute the binarise function and show the light python white.\n"
   ]
  },
  {
   "cell_type": "markdown",
   "metadata": {},
   "source": [
    "### Saving the image"
   ]
  },
  {
   "cell_type": "markdown",
   "metadata": {},
   "source": [
    "You can save any of the images produced in this tutorial by using the **plt.imsave** command. For instance, if we want to save the transpose image, we can run the following command:"
   ]
  },
  {
   "cell_type": "code",
   "execution_count": null,
   "metadata": {
    "collapsed": true
   },
   "outputs": [],
   "source": [
    "plt.imsave('logotrans.png',img_trans)"
   ]
  },
  {
   "cell_type": "markdown",
   "metadata": {},
   "source": [
    "You will notice that the image get saved with the yellow background! Is there any other way to save them?"
   ]
  },
  {
   "cell_type": "code",
   "execution_count": null,
   "metadata": {},
   "outputs": [],
   "source": [
    "## Use this cell to look for other ways to save the images with better quality.\n"
   ]
  }
 ],
 "metadata": {
  "kernelspec": {
   "display_name": "Python 3",
   "language": "python",
   "name": "python3"
  },
  "language_info": {
   "codemirror_mode": {
    "name": "ipython",
    "version": 3
   },
   "file_extension": ".py",
   "mimetype": "text/x-python",
   "name": "python",
   "nbconvert_exporter": "python",
   "pygments_lexer": "ipython3",
   "version": "3.6.0"
  }
 },
 "nbformat": 4,
 "nbformat_minor": 2
}
