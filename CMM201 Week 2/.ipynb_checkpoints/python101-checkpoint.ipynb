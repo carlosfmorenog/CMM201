{
 "cells": [
  {
   "cell_type": "markdown",
   "metadata": {
    "slideshow": {
     "slide_type": "slide"
    }
   },
   "source": [
    "# INTRODUCTION TO PYTHON AND JUPYTER NOTEBOOK\n",
    "\n",
    "In this activity you will learn the basics of the Python programming language. As we said last week, the ost basic use of Python is as a calculator. Therefore, we can perform some basic arithmetical operations to start understanding this language.\n",
    "To better ellaborate and present excercises, codes and courseworks, we will resort to a tool called **Jupyter notebbok**. This tool runs in any web explorer (preferably *Mozilla Firefox*) and offeres a series of advantages compared to classical coding."
   ]
  },
  {
   "cell_type": "markdown",
   "metadata": {
    "slideshow": {
     "slide_type": "subslide"
    }
   },
   "source": [
    "## Using the Jupyter notebook"
   ]
  },
  {
   "cell_type": "markdown",
   "metadata": {
    "collapsed": true,
    "slideshow": {
     "slide_type": "subslide"
    }
   },
   "source": [
    "* Types of cells\n",
    "* Running a cell\n",
    "* How to write in a markdown cell (titles, bold, italics, colour, bullets, formulas, internal links, external links, ...)\n",
    "https://medium.com/ibm-data-science-experience/markdown-for-jupyter-notebooks-cheatsheet-386c05aeebed\n",
    "* How to import and show an image in a markdown cell\n",
    "* Slide type\n",
    "* How to write in a code cell"
   ]
  },
  {
   "cell_type": "markdown",
   "metadata": {
    "slideshow": {
     "slide_type": "slide"
    }
   },
   "source": [
    "## Python Basics\n",
    "\n",
    "Once you have learnt how to write Markdown cells, we will review the very basics of the Python Programming language through the use of *Code* cells. "
   ]
  },
  {
   "cell_type": "markdown",
   "metadata": {
    "collapsed": true,
    "slideshow": {
     "slide_type": "slide"
    }
   },
   "source": [
    "### Defining and printing variables"
   ]
  },
  {
   "cell_type": "markdown",
   "metadata": {},
   "source": [
    "### Basic arithmetical operations"
   ]
  },
  {
   "cell_type": "markdown",
   "metadata": {
    "slideshow": {
     "slide_type": "slide"
    }
   },
   "source": [
    "### Typing\n",
    "\n",
    "* Python is a dynamic language, therefore type check is performed at *runtime*. \n",
    "* Thhis means that command $x=3$ first creates object 3, then creates variable x and then assigns a reference where variable x takes the value of object 3.\n",
    "* References **ALWAYS** link to objects, never to other variables."
   ]
  },
  {
   "cell_type": "code",
   "execution_count": null,
   "metadata": {
    "collapsed": true,
    "slideshow": {
     "slide_type": "subslide"
    }
   },
   "outputs": [],
   "source": [
    "# Example with integers\n",
    "x = 3\n",
    "y = x\n",
    "print('Value of x is', x)\n",
    "print('Value of y is', y)"
   ]
  },
  {
   "cell_type": "code",
   "execution_count": null,
   "metadata": {
    "collapsed": true,
    "slideshow": {
     "slide_type": "subslide"
    }
   },
   "outputs": [],
   "source": [
    "# Since integers are IMMUTABLE, a new object '2' is created. Python removes the reference y->3 and creates y->2\n",
    "y=y-1\n",
    "print('Value of x is', x)\n",
    "print('Value of y is', y)"
   ]
  },
  {
   "cell_type": "code",
   "execution_count": null,
   "metadata": {
    "collapsed": true,
    "slideshow": {
     "slide_type": "subslide"
    }
   },
   "outputs": [],
   "source": [
    "# Example with lists\n",
    "x = [1,2]\n",
    "y = x\n",
    "print('Value of x is', x)\n",
    "print('Value of y is', y)"
   ]
  },
  {
   "cell_type": "code",
   "execution_count": null,
   "metadata": {
    "collapsed": true,
    "slideshow": {
     "slide_type": "subslide"
    }
   },
   "outputs": [],
   "source": [
    "# Since lists are MUTABLE, the command y[0]=0 changed the list as an object, not x!\n",
    "y[0]=0\n",
    "print('Value of x is', x)\n",
    "print('Value of y is', y)"
   ]
  },
  {
   "cell_type": "code",
   "execution_count": null,
   "metadata": {
    "collapsed": true,
    "slideshow": {
     "slide_type": "subslide"
    }
   },
   "outputs": [],
   "source": [
    "# Solution: copy\n",
    "x = [1,2]\n",
    "y = x.copy()\n",
    "y[0]=0\n",
    "print('Value of x is', x)\n",
    "print('Value of y is', y)"
   ]
  },
  {
   "cell_type": "markdown",
   "metadata": {
    "slideshow": {
     "slide_type": "slide"
    }
   },
   "source": [
    "## Converting a Jupyter notebook into a presentable format"
   ]
  },
  {
   "cell_type": "markdown",
   "metadata": {
    "slideshow": {
     "slide_type": "subslide"
    }
   },
   "source": [
    "## Option 1\n",
    "\n",
    "Another option is to import the notebook into an html or a pdf. To do so, simply select \"File -> Download as\" and select the desired format."
   ]
  },
  {
   "cell_type": "markdown",
   "metadata": {
    "slideshow": {
     "slide_type": "subslide"
    }
   },
   "source": [
    "## Option 2\n",
    "\n",
    "Open a terminal, go to the directory where the notebook is located and type:\n",
    "\n",
    "* jupyter nbconvert **filename.ipynb** --to slides --post serve"
   ]
  },
  {
   "cell_type": "markdown",
   "metadata": {
    "slideshow": {
     "slide_type": "subslide"
    }
   },
   "source": [
    "## Option 3\n",
    "\n",
    "Install the \"rise\" plug-in in your Anaconda environment. This will enable a button in the top of jupyter notebook which will let you do a slideshow.\n",
    "\n",
    "For more information about rise, check the following link:\n",
    "\n",
    "* https://github.com/damianavila/RISE"
   ]
  }
 ],
 "metadata": {
  "celltoolbar": "Slideshow",
  "kernelspec": {
   "display_name": "Python 3",
   "language": "python",
   "name": "python3"
  },
  "language_info": {
   "codemirror_mode": {
    "name": "ipython",
    "version": 3
   },
   "file_extension": ".py",
   "mimetype": "text/x-python",
   "name": "python",
   "nbconvert_exporter": "python",
   "pygments_lexer": "ipython3",
   "version": "3.6.0"
  }
 },
 "nbformat": 4,
 "nbformat_minor": 2
}
