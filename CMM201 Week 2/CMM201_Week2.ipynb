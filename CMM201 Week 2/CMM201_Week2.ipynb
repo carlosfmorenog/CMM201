{
 "cells": [
  {
   "cell_type": "markdown",
   "metadata": {
    "slideshow": {
     "slide_type": "slide"
    }
   },
   "source": [
    "# INTRODUCTION TO PYTHON AND JUPYTER NOTEBOOK\n",
    "\n",
    "In this activity you will learn the basics of the Python programming language. As we said last week, the most basic use of Python is as a calculator. Therefore, we can perform basic arithmetical operations to start understanding this language."
   ]
  },
  {
   "cell_type": "markdown",
   "metadata": {
    "slideshow": {
     "slide_type": "subslide"
    }
   },
   "source": [
    "To better elaborate and present exercises, codes and courseworks, we will resort to a tool called **Jupyter notebook**. This tool runs in any web explorer (preferably *Mozilla Firefox*) and offers significant advantages compared to coding in a classical Integrated Development Environment (IDE), such as better organisation, presentation and possibility to produce a report or a slideshow directly from the code."
   ]
  },
  {
   "cell_type": "markdown",
   "metadata": {
    "slideshow": {
     "slide_type": "slide"
    }
   },
   "source": [
    "# Using the Jupyter Notebook"
   ]
  },
  {
   "cell_type": "markdown",
   "metadata": {
    "slideshow": {
     "slide_type": "subslide"
    }
   },
   "source": [
    "## Cells\n",
    "A jupyter notebook is composed of a series of writing areas called *cells*. These cells can have two types:\n",
    "* Code\n",
    "* Markdown"
   ]
  },
  {
   "cell_type": "markdown",
   "metadata": {
    "slideshow": {
     "slide_type": "subslide"
    }
   },
   "source": [
    "### Creating Code Cells\n",
    "Up to this point in this Jupyter notebook, all cells have been of the *Markdown* type. This is used to write notes or import images. However, you will notice that the cell below this one has <font color=blue> In [ ]:</font> on the left hand side. That is because such cell is a *Code* cell, which is designed to write and execute Python code.\n",
    "* To run code in a *Code* cell, simply write the Python code (say, 1+1) and run the cell. \n",
    "* To run the cell, you have to select it and then press the Run button (located on the top menu) or press SHIFT+ENTER. \n",
    "* You will notice that the result appears directly below the *Code* cell."
   ]
  },
  {
   "cell_type": "code",
   "execution_count": null,
   "metadata": {
    "collapsed": true,
    "slideshow": {
     "slide_type": "subslide"
    }
   },
   "outputs": [],
   "source": []
  },
  {
   "cell_type": "markdown",
   "metadata": {
    "collapsed": true,
    "slideshow": {
     "slide_type": "slide"
    }
   },
   "source": [
    "### Editing Text in Markdown Cells\n",
    "* To edit a *Markdown* cell, double-click on it and you will see the originla input. \n",
    "* Notice that to enrich your text with things such as bold, italics, bullet point, etc., there is a series of codes that are used. \n",
    "* You can visit [this site](https://medium.com/ibm-data-science-experience/markdown-for-jupyter-notebooks-cheatsheet-386c05aeebed) to see a cheatsheet that teaches you some good tricks on how to write Markdown in Jupyter notebooks.\n",
    "* Once that you have finished editing a *Markdown* cell, run it to see the final aspect."
   ]
  },
  {
   "cell_type": "markdown",
   "metadata": {
    "slideshow": {
     "slide_type": "slide"
    }
   },
   "source": [
    "### Cell operations"
   ]
  },
  {
   "cell_type": "markdown",
   "metadata": {
    "slideshow": {
     "slide_type": "subslide"
    }
   },
   "source": [
    "#### Adding Cells\n",
    "* To add a cell, you can go to INSERT->ADD CELL ABOVE or ADD CELL BELOW. The cell will be added above/below the currently selected one. \n",
    "* **PRACTICE**: Add:\n",
    "    * an empty *Markdown* cell above this one and \n",
    "    * an empty *Code* cell below this one."
   ]
  },
  {
   "cell_type": "markdown",
   "metadata": {
    "slideshow": {
     "slide_type": "subslide"
    }
   },
   "source": [
    "#### Moving Cells\n",
    "* You can use the UP/DOWN arrows next to the RUN button in the top to move a cell up and down.\n",
    "* **PRACTICE**: Move the previously created *Code* cell from obove this one to below this one."
   ]
  },
  {
   "cell_type": "markdown",
   "metadata": {
    "slideshow": {
     "slide_type": "subslide"
    }
   },
   "source": [
    "#### Deleting Cells\n",
    "* To delete a cell, select the desired cell and go to EDIT->DELETE CELLS\n",
    "* **PRACTICE**: Erase the code cell that you added and moved previously."
   ]
  },
  {
   "cell_type": "markdown",
   "metadata": {
    "slideshow": {
     "slide_type": "subslide"
    }
   },
   "source": [
    "#### Copying, Cutting and Pasting Cells\n",
    "* Use the scissor button to cut a cell.\n",
    "* Use the \"two-sheet\" button to copy a cell.\n",
    "* Use the black and white sheet\" button to paste a cell.\n",
    "    * Using this button, the cell will be pasted *below* the selected one.\n",
    "* You can use the EDIT menu to do these operations as well."
   ]
  },
  {
   "cell_type": "markdown",
   "metadata": {
    "slideshow": {
     "slide_type": "slide"
    }
   },
   "source": [
    "## The Jupyter Notebook Kernel\n",
    "* A kernel, in the context of programming, is defined as the core of an operating system (Source - wikipedia).\n",
    "* A Jupyter Notebook has a kernel, therefore all Python code that you run gets executed within the notebook.\n",
    "* All variables, operations and functions that you perform get saved in this kernel, however you have to make sure that you have executed every cell in the right order.\n",
    "* In the menu you have a KERNEL option, where you can interrupt, restart and even change kernels so that you can run the code in more efficient ways."
   ]
  },
  {
   "cell_type": "markdown",
   "metadata": {
    "slideshow": {
     "slide_type": "slide"
    }
   },
   "source": [
    "## Running a Jupyter Notebook\n",
    "* Python is a sequential language, therefore you have to make sure that you have run every instruction that you require **BEFORE** attempting to run a new one.\n",
    "* For instance, if you close and open this notebook, You have to run all *Code* cells (usually from top to bottom) so that variables are created and your code works."
   ]
  },
  {
   "cell_type": "markdown",
   "metadata": {
    "slideshow": {
     "slide_type": "slide"
    }
   },
   "source": [
    "# Python Basics"
   ]
  },
  {
   "cell_type": "markdown",
   "metadata": {
    "slideshow": {
     "slide_type": "subslide"
    }
   },
   "source": [
    "## Basic Arithmetical Operations\n",
    "As said in the previous session, the most basic use of Python is a calculator. Run the following *Code* cells to see the different operations that you can perform in Python."
   ]
  },
  {
   "cell_type": "code",
   "execution_count": null,
   "metadata": {
    "collapsed": true,
    "slideshow": {
     "slide_type": "subslide"
    }
   },
   "outputs": [],
   "source": [
    "# Addition\n",
    "\n",
    "2+2"
   ]
  },
  {
   "cell_type": "code",
   "execution_count": null,
   "metadata": {
    "collapsed": true,
    "slideshow": {
     "slide_type": "subslide"
    }
   },
   "outputs": [],
   "source": [
    "# Subtraction\n",
    "\n",
    "2-1"
   ]
  },
  {
   "cell_type": "code",
   "execution_count": null,
   "metadata": {
    "collapsed": true,
    "slideshow": {
     "slide_type": "subslide"
    }
   },
   "outputs": [],
   "source": [
    "# Multiplication\n",
    "\n",
    "2*3"
   ]
  },
  {
   "cell_type": "code",
   "execution_count": null,
   "metadata": {
    "collapsed": true,
    "slideshow": {
     "slide_type": "subslide"
    }
   },
   "outputs": [],
   "source": [
    "# Exponent\n",
    "\n",
    "3**2"
   ]
  },
  {
   "cell_type": "code",
   "execution_count": null,
   "metadata": {
    "collapsed": true,
    "slideshow": {
     "slide_type": "subslide"
    }
   },
   "outputs": [],
   "source": [
    "# Division\n",
    "\n",
    "8/3"
   ]
  },
  {
   "cell_type": "code",
   "execution_count": null,
   "metadata": {
    "collapsed": true,
    "slideshow": {
     "slide_type": "subslide"
    }
   },
   "outputs": [],
   "source": [
    "# Floor division\n",
    "\n",
    "8//3"
   ]
  },
  {
   "cell_type": "code",
   "execution_count": null,
   "metadata": {
    "collapsed": true,
    "slideshow": {
     "slide_type": "subslide"
    }
   },
   "outputs": [],
   "source": [
    "# Modulus (residual of the division)\n",
    "\n",
    "8%3"
   ]
  },
  {
   "cell_type": "markdown",
   "metadata": {
    "slideshow": {
     "slide_type": "slide"
    }
   },
   "source": [
    "## Commenting Your Code\n",
    "Notice that at the beginning of each *Code* cell I have included a *Comment* line. Comments are used in almost any programming language to specify aspects within the code. You can start a comment line using the $#$ symbol."
   ]
  },
  {
   "cell_type": "code",
   "execution_count": null,
   "metadata": {
    "collapsed": true,
    "slideshow": {
     "slide_type": "subslide"
    }
   },
   "outputs": [],
   "source": [
    "# This is a comment. If you run this cell, nothing will happen."
   ]
  },
  {
   "cell_type": "markdown",
   "metadata": {
    "collapsed": true,
    "slideshow": {
     "slide_type": "slide"
    }
   },
   "source": [
    "## Defining Variables\n",
    "Variables are maybe one of the most important concepts of programming, since they allow you to store different values along the implementation of a code. To assign a value to a variable, we use the $=$ sign as an *assignment* operator."
   ]
  },
  {
   "cell_type": "code",
   "execution_count": null,
   "metadata": {
    "collapsed": true,
    "slideshow": {
     "slide_type": "subslide"
    }
   },
   "outputs": [],
   "source": [
    "# Run this cell to assign to the variable a the value of 1.\n",
    "\n",
    "a=1"
   ]
  },
  {
   "cell_type": "markdown",
   "metadata": {
    "slideshow": {
     "slide_type": "subslide"
    }
   },
   "source": [
    "To see the value of the variable, we can *print* such variable. Printing is also a very common practice when coding, as it allows us to see the value of a variable at any given time. To print a variable, you can use the print *function* (we will explain functions more in detail in following sessions). Alternatively, you can simply write the name of the variable. **DO YOU NOTICE ANY DIFFERENCE BETWEEN BOTH OPTIONS?**"
   ]
  },
  {
   "cell_type": "code",
   "execution_count": null,
   "metadata": {
    "collapsed": true,
    "slideshow": {
     "slide_type": "subslide"
    }
   },
   "outputs": [],
   "source": [
    "# Print option 1: Using the print function\n",
    "\n",
    "print(a)"
   ]
  },
  {
   "cell_type": "code",
   "execution_count": null,
   "metadata": {
    "collapsed": true,
    "slideshow": {
     "slide_type": "subslide"
    }
   },
   "outputs": [],
   "source": [
    "# Print option 2: Writing the name of the variable\n",
    "\n",
    "a"
   ]
  },
  {
   "cell_type": "markdown",
   "metadata": {
    "slideshow": {
     "slide_type": "subslide"
    }
   },
   "source": [
    "Moreover, there are times that you need the user to specify the value of the variable as the code is running. For example, consider the case of a query system where the user wants to input the name of a client and the system returns the personal information of such client. To do so, we can use the *input* function to assign a variable the value of a *string*. By string we are making reference to letters and words, more on that later on the course..."
   ]
  },
  {
   "cell_type": "code",
   "execution_count": null,
   "metadata": {
    "collapsed": true,
    "slideshow": {
     "slide_type": "subslide"
    }
   },
   "outputs": [],
   "source": [
    "# Using the input function to assign to the variable b the value of a string specified by a user.\n",
    "\n",
    "print('Write the name of a client to query on the database')\n",
    "b = input()\n",
    "print('The name of the client to query is', b)"
   ]
  },
  {
   "cell_type": "markdown",
   "metadata": {
    "slideshow": {
     "slide_type": "slide"
    }
   },
   "source": [
    "## Typing\n",
    "\n",
    "* Python is a dynamic language, therefore **type check** is performed at *runtime*. \n",
    "* This means that command $x=3$ first creates object $3$, then creates variable $x$ and then assigns a reference \"$\\rightarrow$\" where variable $x$ takes the value of object $3$.\n",
    "* References **ALWAYS** link to objects, **NEVER** to other variables."
   ]
  },
  {
   "cell_type": "code",
   "execution_count": null,
   "metadata": {
    "collapsed": true,
    "slideshow": {
     "slide_type": "subslide"
    }
   },
   "outputs": [],
   "source": [
    "# Example with integer numbers\n",
    "x = 3\n",
    "y = x\n",
    "print('Value of x is', x)\n",
    "print('Value of y is', y)"
   ]
  },
  {
   "cell_type": "markdown",
   "metadata": {
    "slideshow": {
     "slide_type": "subslide"
    }
   },
   "source": [
    "Since numbers in Python are **IMMUTABLE** objects (more on that later), if an arithmetical operation is made using a variable, a new object $2$ is created. Then, Python removes the reference $y\\rightarrow3$ and creates $y\\rightarrow2$. However, the reference $x\\rightarrow3$ remains unchanged!\n"
   ]
  },
  {
   "cell_type": "code",
   "execution_count": null,
   "metadata": {
    "collapsed": true,
    "slideshow": {
     "slide_type": "subslide"
    }
   },
   "outputs": [],
   "source": [
    "y=y-1\n",
    "print('Value of x is', x)\n",
    "print('Value of y is', y)"
   ]
  },
  {
   "cell_type": "markdown",
   "metadata": {
    "slideshow": {
     "slide_type": "subslide"
    }
   },
   "source": [
    "This is not the case for all objects used in Python. Next session we will learn about other types of objects and data structures with different properties and characteristics."
   ]
  },
  {
   "cell_type": "markdown",
   "metadata": {
    "slideshow": {
     "slide_type": "slide"
    }
   },
   "source": [
    "# Converting a Jupyter Notebook into a Presentable Format"
   ]
  },
  {
   "cell_type": "markdown",
   "metadata": {
    "slideshow": {
     "slide_type": "subslide"
    }
   },
   "source": [
    "## Option 1\n",
    "\n",
    "You can import the notebook into an html or a pdf. To do so, simply select FILE -> DOWNLOAD AS and select the desired format."
   ]
  },
  {
   "cell_type": "markdown",
   "metadata": {
    "slideshow": {
     "slide_type": "subslide"
    }
   },
   "source": [
    "## Option 2\n",
    "\n",
    "In a *Code* cell, type and run the following code to create a slideshow from the Jupyter Notebook similar to the one created using the RISE extension seen in the previous session."
   ]
  },
  {
   "cell_type": "code",
   "execution_count": null,
   "metadata": {
    "collapsed": true,
    "slideshow": {
     "slide_type": "fragment"
    }
   },
   "outputs": [],
   "source": [
    "# This command transforms the Jupyter notebook into a slideshow\n",
    "!jupyter nbconvert CMM201_Week2.ipynb --to slides --post serve\n",
    "\n",
    "# once a new browser opens, replace the \"#\" after the the_notebook.slides.html in the browser URL with \n",
    "# ?print-pdf so that the url looks most likely like http://127.0.0.1:8000/the_notebook.slides.html?print-pdf\n",
    "# finally, print to PDF file"
   ]
  },
  {
   "cell_type": "markdown",
   "metadata": {
    "slideshow": {
     "slide_type": "subslide"
    }
   },
   "source": [
    "## Option 3\n",
    "\n",
    "Install the RISE plug-in in your Anaconda environment. This will enable a button in the top of Jupyter Notebook which will let you do the slideshow directly. For more information about RISE, check the link [here](https://github.com/damianavila/RISE)."
   ]
  },
  {
   "cell_type": "markdown",
   "metadata": {
    "slideshow": {
     "slide_type": "fragment"
    }
   },
   "source": [
    "Once that you have installed rise, you have to enable the slideshow option in the notebook. To do so, go to Cell $\\rightarrow$ Cell Toolbar $\\rightarrow$ Slideshow"
   ]
  },
  {
   "cell_type": "code",
   "execution_count": null,
   "metadata": {
    "collapsed": true,
    "slideshow": {
     "slide_type": "fragment"
    }
   },
   "outputs": [],
   "source": [
    "# This cell is used to change parameter of the rise slideshow\n",
    "# such as the width/height and enabling a scroll bar\n",
    "\n",
    "from notebook.services.config import ConfigManager\n",
    "cm = ConfigManager()\n",
    "cm.update('livereveal', {\n",
    "              'width': 1000,\n",
    "              'height': 1000,\n",
    "              'scroll': True,\n",
    "})"
   ]
  }
 ],
 "metadata": {
  "celltoolbar": "Slideshow",
  "kernelspec": {
   "display_name": "Python 3",
   "language": "python",
   "name": "python3"
  },
  "language_info": {
   "codemirror_mode": {
    "name": "ipython",
    "version": 3
   },
   "file_extension": ".py",
   "mimetype": "text/x-python",
   "name": "python",
   "nbconvert_exporter": "python",
   "pygments_lexer": "ipython3",
   "version": "3.6.4"
  }
 },
 "nbformat": 4,
 "nbformat_minor": 2
}
