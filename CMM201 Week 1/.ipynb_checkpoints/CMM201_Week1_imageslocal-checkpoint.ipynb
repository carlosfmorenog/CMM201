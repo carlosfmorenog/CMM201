{
 "cells": [
  {
   "cell_type": "code",
   "execution_count": null,
   "metadata": {
    "collapsed": true,
    "slideshow": {
     "slide_type": "skip"
    }
   },
   "outputs": [],
   "source": [
    "# This cell is used to change parameter of the rise slideshow, \n",
    "# such as the window width/height and enabling a scroll bar\n",
    "\n",
    "from notebook.services.config import ConfigManager\n",
    "cm = ConfigManager()\n",
    "cm.update('livereveal', {\n",
    "              'width': 1000,\n",
    "              'height': 1000,\n",
    "              'scroll': True,\n",
    "})"
   ]
  },
  {
   "cell_type": "code",
   "execution_count": null,
   "metadata": {
    "collapsed": true,
    "slideshow": {
     "slide_type": "skip"
    }
   },
   "outputs": [],
   "source": [
    "# This command transforms the Jupyter notebook into a slideshow\n",
    "!jupyter nbconvert CMM201_Week1.ipynb --to slides --post serve\n",
    "# once a new browser opens, replace the \"#\" after the the_notebook.slides.html in the browser URL with \n",
    "# ?print-pdf so that the url looks most likely like http://127.0.0.1:8000/the_notebook.slides.html?print-pdf\n",
    "# finally, print to PDF file"
   ]
  },
  {
   "cell_type": "markdown",
   "metadata": {
    "slideshow": {
     "slide_type": "slide"
    }
   },
   "source": [
    "# CMM201 - Programming Concepts for Business Analytics\n",
    "* Dr. Carlos Moreno-Garcia\n",
    "* Lecturer in Computing<br>\n",
    "* Placements and Electives Coordinator<br>\n",
    "* School of Computing Science and Digital Media"
   ]
  },
  {
   "cell_type": "markdown",
   "metadata": {
    "slideshow": {
     "slide_type": "slide"
    }
   },
   "source": [
    "## Aim of the Module\n",
    "This module will introduce students to fundamental programming principles and concepts within the context of\n",
    "creating solutions for business analytics."
   ]
  },
  {
   "cell_type": "markdown",
   "metadata": {
    "slideshow": {
     "slide_type": "subslide"
    }
   },
   "source": [
    "## Learning Outcomes\n",
    "On completion of this module, students are expected to be able to:\n",
    "1. Critically appraise a range of programming languages and tools commonly used for data analytics (in this case, we will resort to the Python programming language).\n",
    "2. Demonstrate a critical understanding of core programming techniques and concepts.\n",
    "3. Use existing libraries and coding techniques to perform data management, data analysis and data visualization tasks.\n",
    "4. Apply programming skills to business decision making problems."
   ]
  },
  {
   "cell_type": "markdown",
   "metadata": {
    "slideshow": {
     "slide_type": "subslide"
    }
   },
   "source": [
    "## Module Evaluation\n",
    "Two courseworks outputs, each corresponding to **50%** of the final mark:\n",
    "* First output: **7th November, 2019**\n",
    "* Second output: **12th December, 2019**\n",
    "<br>\n",
    "\n",
    "The guidelines and submission instructions can be found [here](http://campusmoodle.rgu.ac.uk/course/view.php?id=96406)."
   ]
  },
  {
   "cell_type": "markdown",
   "metadata": {
    "slideshow": {
     "slide_type": "subslide"
    }
   },
   "source": [
    "## Industry Partnership/Engagement\n",
    "Students are intended to learn basic programming knowledge and thus, the engagement with industry is expected to be developed in the follow-up module “CMM202 – Programming for Business Analytics”."
   ]
  },
  {
   "cell_type": "markdown",
   "metadata": {
    "slideshow": {
     "slide_type": "slide"
    }
   },
   "source": [
    "# Bibliography"
   ]
  },
  {
   "cell_type": "markdown",
   "metadata": {
    "slideshow": {
     "slide_type": "subslide"
    }
   },
   "source": [
    "## Books\n",
    "* Python. Toby Donaldson, Peachpit Press, 2013.\n",
    "* Python Essentials. Steven F. Lott, Packt Publishing Ltd, 2015.\n",
    "* Think Python: How to Think Like a Computer Scientist. Allen Downey, O'Reilly Media, Inc., 2012.\n",
    "* Fluent Python. Luciano Ramalho. O'Reilly Media, Inc., 2015.\n",
    "* Python Cookbook: Recipes for Mastering Python 3. David Beazley, Brian K. Jones, O'Reilly Media, Inc., 10 May 2013.\n",
    "* Introduction to Computing and Programming in Python: A Multimedia Approach. Mark Guzdial, Barbara Ericson. Pearson, 2016.\n",
    "* Search the RGU Library in [here](https://librarysearch.rgu.ac.uk/discovery/search?query=any,contains,python&tab=Everything&search_scope=MyInst_and_CI&vid=44RGU_INST:VU1&offset=0). \n"
   ]
  },
  {
   "cell_type": "markdown",
   "metadata": {
    "slideshow": {
     "slide_type": "subslide"
    }
   },
   "source": [
    "## Podcasts \n",
    "* https://talkpython.fm/\n",
    "* https://www.pythonpodcast.com/\n",
    "* https://testandcode.com/"
   ]
  },
  {
   "cell_type": "markdown",
   "metadata": {
    "slideshow": {
     "slide_type": "subslide"
    }
   },
   "source": [
    "## Websites\n",
    "* [Python Documentation](https://docs.python.org/3/)\n",
    "* [StackOverflow](https://stackoverflow.com/questions/tagged/python)\n",
    "    * Online community where people exchange ideas, doubts and code.\n",
    "* [Github](https://github.com/python) code repository.\n"
   ]
  },
  {
   "cell_type": "markdown",
   "metadata": {
    "slideshow": {
     "slide_type": "subslide"
    }
   },
   "source": [
    "## Online Courses\n",
    "\n",
    "* [Datacamp](https://www.datacamp.com/courses/intro-to-python-for-data-science?utm_source=adwords_ppc&utm_campaignid=805200711&utm_adgroupid=43370829484&utm_device=c&utm_keyword=%2Bdatacamp%20%2Bpython&utm_matchtype=b&utm_network=g&utm_adpostion=1t1&utm_creative=191104999116&utm_targetid=kwd-414126611260&utm_loc_interest_ms=&utm_loc_physical_ms=9046834&gclid=CjwKCAjw7_rlBRBaEiwAc23rhjfi2Mw2qxQ1_zJmVEph39YX5t6HkFUTmp48oqIpZ51eN2SYDpBPahoCqGEQAvD_BwE) (you can also download the mobile app to practice on the go) \n",
    "* [CodeInstitute](www.codeinstitute.net)\n",
    "* [LearnPython](https://www.learnpython.org/) (free course)\n",
    "* [EDX](https://www.edx.org/learn/python)\n",
    "* [Coursera](https://www.coursera.org/courses?query=python)\n",
    "* [CodeAcademy](https://www.codecademy.com/learn/learn-python)\n",
    "* [Udemy](https://www.udemy.com/python-for-finance-investment-fundamentals-data-analytics/) Python for Finance: Investment Fundamentals & Data Analytics.\n"
   ]
  },
  {
   "cell_type": "markdown",
   "metadata": {
    "slideshow": {
     "slide_type": "subslide"
    }
   },
   "source": [
    "## Events in the City\n",
    "* Aberdeen Data Meetup (1st Tuesday of each month).\n",
    "    * Organised by Scotland Data Science & Technology Meetup group.\n",
    "    * Attendance managed through [Meetup](https://www.meetup.com/Scotland-Data-Science-Technology-Meetup/).\n",
    "    * Discussion about latest news, projects and needs of the city, all disciplines welcome.\n",
    "* Python Aberdeen Group (2nd Wednesday of each month).\n",
    "    * Organised by [Code the City Aberdeen](https://codethecity.org/).\n",
    "        * They organise other events as well such as hackathons and workshops.\n",
    "    * Attendance managed through [Tito](https://ti.to/code-the-city/)."
   ]
  },
  {
   "cell_type": "markdown",
   "metadata": {
    "slideshow": {
     "slide_type": "slide"
    }
   },
   "source": [
    "# Why do you Need Python?\n",
    "\n",
    "[Source](https://www.datacamp.com/community/blog/why-your-company-needs-python-for-business-analytics)"
   ]
  },
  {
   "cell_type": "markdown",
   "metadata": {
    "slideshow": {
     "slide_type": "subslide"
    }
   },
   "source": [
    "## Improves Work for Everyone\n",
    "\n",
    "* Widely used top programming language\n",
    "* Huge growing ecosystem due to its open source nature\n",
    "* Almost every industry is on board\n"
   ]
  },
  {
   "cell_type": "markdown",
   "metadata": {
    "slideshow": {
     "slide_type": "subslide"
    }
   },
   "source": [
    "## Is Replacing Excel\n",
    "\n",
    "* Excel isn't scalable for modern business needs\n",
    "* Allows collaboration"
   ]
  },
  {
   "cell_type": "markdown",
   "metadata": {
    "slideshow": {
     "slide_type": "subslide"
    }
   },
   "source": [
    "## Descriptive Analytics and Dashboards\n",
    "\n",
    "* Exploratory Data Analysis\n",
    "* Manipulation of data\n",
    "* Streamline work flows\n",
    "* Creating visualisations"
   ]
  },
  {
   "cell_type": "markdown",
   "metadata": {
    "slideshow": {
     "slide_type": "fragment"
    }
   },
   "source": [
    "![Fig. 1. Example of a dashboard in Python](figs/dashboard.jpg)"
   ]
  },
  {
   "cell_type": "markdown",
   "metadata": {
    "slideshow": {
     "slide_type": "subslide"
    }
   },
   "source": [
    "## Machine Learning\n",
    "* Predicting and classifying new data\n",
    "* Recommender systems\n",
    "* Can work with popular Google machine learning libraries (such as Tesseract and Tensorflow)"
   ]
  },
  {
   "cell_type": "markdown",
   "metadata": {
    "slideshow": {
     "slide_type": "subslide"
    }
   },
   "source": [
    "## Predictive/Prescriptive Analytics\n",
    "\n",
    "* Decision science\n",
    "    * Anticipate what, when and why certain outcome will happen\n",
    "    * What to do with information\n",
    "* Deep learning to optimise outcomes"
   ]
  },
  {
   "cell_type": "markdown",
   "metadata": {
    "slideshow": {
     "slide_type": "fragment"
    }
   },
   "source": [
    "![Fig. 2. Prescriptive Analytics](figs/prescriptive.jpg)"
   ]
  },
  {
   "cell_type": "markdown",
   "metadata": {
    "slideshow": {
     "slide_type": "slide"
    }
   },
   "source": [
    "# Fundamentals of Programming"
   ]
  },
  {
   "cell_type": "markdown",
   "metadata": {
    "slideshow": {
     "slide_type": "subslide"
    }
   },
   "source": [
    "## Types of Programming Languages\n",
    "![Fig. 3. Types of programming languages](figs/proglangtypes.jpg)\n",
    "[Source 1](http://4.bp.blogspot.com/-NvijJmjC13I/TmIbqlKKl8I/AAAAAAAAA3Q/mK4Nmy43en8/s1600/Untitled-1+%25281%2529.jpg)\n",
    "[Source 2](https://studyin24.com/wp-content/uploads/2018/12/Programming-language-types.jpg)"
   ]
  },
  {
   "cell_type": "markdown",
   "metadata": {
    "slideshow": {
     "slide_type": "subslide"
    }
   },
   "source": [
    "## Advantages of High-level Programming Languages\n",
    "\n",
    "* Programmer friendly. \n",
    "* Easy to write, debug and maintain.\n",
    "* Provide higher level of abstraction from machine languages.\n",
    "* Machine independent language.\n",
    "* Easy to learn.\n",
    "* Less error prone.\n",
    "* Results in better programming productivity."
   ]
  },
  {
   "cell_type": "markdown",
   "metadata": {
    "slideshow": {
     "slide_type": "subslide"
    }
   },
   "source": [
    "## Compiled vs Interpreted Programming Languages"
   ]
  },
  {
   "cell_type": "markdown",
   "metadata": {
    "slideshow": {
     "slide_type": "fragment"
    }
   },
   "source": [
    "### Compiled\n",
    "* The high-level source code is translated to machine code using a compiler.\n",
    "* Example: An addition + gets directly translated to the ADD instruction in the machine code.\n",
    "* Examples: C, Fortran, COBOL, C++, and Java (compiled to bytecode).\n",
    "* Advantages:\n",
    "    * Ready to run.\n",
    "    * Often faster.\n",
    "    * Source code is kept private.\n"
   ]
  },
  {
   "cell_type": "markdown",
   "metadata": {
    "slideshow": {
     "slide_type": "subslide"
    }
   },
   "source": [
    "### Interpreted\n",
    "* Instructions are not directly executed, but read by another program.\n",
    "* Instructions run freely without the need to compile them first!\n",
    "* Examples: JavaScript, Perl, R, *Python*.\n",
    "* Advantages:\n",
    "    * Cross-platform (portability).\n",
    "    * Simpler to test.\n",
    "    * Display error as each instruction is run."
   ]
  },
  {
   "cell_type": "markdown",
   "metadata": {
    "slideshow": {
     "slide_type": "subslide"
    }
   },
   "source": [
    "![Fig. 4. Difference between compiled and interpreted programming languages](figs/compiledinterpreted.jpg)\n",
    "[Source](https://www.google.com/url?sa=i&rct=j&q=&esrc=s&source=images&cd=&cad=rja&uact=8&ved=2ahUKEwichoGF1KXkAhVOdhoKHebmAJwQjRx6BAgBEAQ&url=%2Furl%3Fsa%3Di%26rct%3Dj%26q%3D%26esrc%3Ds%26source%3Dimages%26cd%3D%26ved%3D%26url%3Dhttps%253A%252F%252Fmedium.com%252Ffrom-the-scratch%252Fstop-it-there-are-no-compiled-and-interpreted-languages-512f84756664%26psig%3DAOvVaw0CqS9Nmdo4wbc9J-p4WtL-%26ust%3D1567083827896505&psig=AOvVaw0CqS9Nmdo4wbc9J-p4WtL-&ust=1567083827896505)"
   ]
  },
  {
   "cell_type": "markdown",
   "metadata": {
    "slideshow": {
     "slide_type": "subslide"
    }
   },
   "source": [
    "## Static vs Dynamic Programming Languages\n",
    "* Static is designed to optimise *hardware* efficiency\n",
    "* Dynamic is designed to optimise *programming* efficiency so that less code is used.\n",
    "* In fact, dynamic languages are written using a static one.\n",
    "    * Python is written in C!"
   ]
  },
  {
   "cell_type": "markdown",
   "metadata": {
    "slideshow": {
     "slide_type": "slide"
    }
   },
   "source": [
    "# Python"
   ]
  },
  {
   "cell_type": "markdown",
   "metadata": {
    "slideshow": {
     "slide_type": "subslide"
    }
   },
   "source": [
    "## What is Python?\n",
    "\n",
    "* Widely used **high-level**, **interpreted**, **dynamic** programming language.\n",
    "* Emphasizes code readability. \n",
    "* Its syntax allows programmers to express concepts in fewer lines of code.\n",
    "* Similar to R and Matlab."
   ]
  },
  {
   "cell_type": "markdown",
   "metadata": {
    "slideshow": {
     "slide_type": "subslide"
    }
   },
   "source": [
    "## Some statistics"
   ]
  },
  {
   "cell_type": "markdown",
   "metadata": {
    "slideshow": {
     "slide_type": "subslide"
    }
   },
   "source": [
    "### Popularity"
   ]
  },
  {
   "cell_type": "markdown",
   "metadata": {
    "slideshow": {
     "slide_type": "fragment"
    }
   },
   "source": [
    "Python is the third most popular programming language according to the [TIOBE](https://www.tiobe.com/tiobe-index/) index, being the fastest growing one in this rubric for the current year."
   ]
  },
  {
   "cell_type": "markdown",
   "metadata": {
    "slideshow": {
     "slide_type": "fragment"
    }
   },
   "source": [
    "![Fig. 5 a. TIOBE Index 2019](figs/tiobe.jpg)"
   ]
  },
  {
   "cell_type": "markdown",
   "metadata": {
    "slideshow": {
     "slide_type": "fragment"
    }
   },
   "source": [
    "![Fig. 5 b. TIOBE Index 2019](figs/tiobepython.jpg)"
   ]
  },
  {
   "cell_type": "markdown",
   "metadata": {
    "slideshow": {
     "slide_type": "subslide"
    }
   },
   "source": [
    "According to the 2019 developer survey run by [Stack overflow](https://insights.stackoverflow.com/survey/2019), Python is the 4th most popular programming language in the world, both for general public and for professional developers."
   ]
  },
  {
   "cell_type": "markdown",
   "metadata": {
    "slideshow": {
     "slide_type": "fragment"
    }
   },
   "source": [
    "![Fig. 6. Most popular technologies](figs/stackoverflowmostpopular.jpg)"
   ]
  },
  {
   "cell_type": "markdown",
   "metadata": {
    "slideshow": {
     "slide_type": "subslide"
    }
   },
   "source": [
    "Python is currently the best ranked programming language according to the Institute of Electrical and Electronics Engineers  [(IEEE)](https://spectrum.ieee.org/at-work/innovation/the-2018-top-programming-languages)."
   ]
  },
  {
   "cell_type": "markdown",
   "metadata": {
    "slideshow": {
     "slide_type": "fragment"
    }
   },
   "source": [
    "![Fig 7. IEEE Ranking](figs/stats3.jpg)"
   ]
  },
  {
   "cell_type": "markdown",
   "metadata": {
    "slideshow": {
     "slide_type": "subslide"
    }
   },
   "source": [
    "### Employabilty"
   ]
  },
  {
   "cell_type": "markdown",
   "metadata": {
    "slideshow": {
     "slide_type": "fragment"
    }
   },
   "source": [
    "Python is currently the language with the fastest growing rate of interest by employers according to [Google Trends](https://medium.freecodecamp.org/best-programming-languages-to-learn-in-2018-ultimate-guide-bfc93e615b35)."
   ]
  },
  {
   "cell_type": "markdown",
   "metadata": {
    "slideshow": {
     "slide_type": "fragment"
    }
   },
   "source": [
    "![Fig. 8. Google trends interest over time](figs/stats2.jpg)"
   ]
  },
  {
   "cell_type": "markdown",
   "metadata": {
    "slideshow": {
     "slide_type": "subslide"
    }
   },
   "source": [
    "It is the 12th best paid language, but one of the fastest to adopt."
   ]
  },
  {
   "cell_type": "markdown",
   "metadata": {
    "slideshow": {
     "slide_type": "fragment"
    }
   },
   "source": [
    "![Fig. 9 a. Salary by programming language](figs/stackoverflowbestpaid.jpg)"
   ]
  },
  {
   "cell_type": "markdown",
   "metadata": {
    "slideshow": {
     "slide_type": "fragment"
    }
   },
   "source": [
    "![Fig. 9 b. Salary by programming language w.r.t. years of experience](figs/salarybylanguage.jpg)"
   ]
  },
  {
   "cell_type": "markdown",
   "metadata": {
    "slideshow": {
     "slide_type": "slide"
    }
   },
   "source": [
    "# Installing Python"
   ]
  },
  {
   "cell_type": "markdown",
   "metadata": {
    "slideshow": {
     "slide_type": "subslide"
    }
   },
   "source": [
    "## The long and hard way\n",
    "\n",
    "1. Install Python (https://www.python.org).\n",
    "2. Install a Python Integrated Development Environment (IDE) such as IDLE (available when installing Python), Pycharm (https://www.jetbrains.com/pycharm/) or Spyder (https://pypi.org/project/spyder/).\n",
    "3. Install Jupytor Notebook (http://jupyter.org/)."
   ]
  },
  {
   "cell_type": "markdown",
   "metadata": {
    "slideshow": {
     "slide_type": "subslide"
    }
   },
   "source": [
    "## The fast way: Anaconda Navigator\n",
    "\n",
    "* Everything can be easily installed using a bundle called [Anaconda Navigator](https://www.anaconda.com/download/).\n",
    "\n",
    "![Fig. 10. Anaconda](figs/anaconda.jpg)"
   ]
  },
  {
   "cell_type": "markdown",
   "metadata": {
    "slideshow": {
     "slide_type": "slide"
    }
   },
   "source": [
    "# How Does Python Look Like?"
   ]
  },
  {
   "cell_type": "markdown",
   "metadata": {
    "slideshow": {
     "slide_type": "subslide"
    }
   },
   "source": [
    "In its most simplistic state, Python acts like a calculator. You simply write one calculation, and Python gives you the answer!"
   ]
  },
  {
   "cell_type": "code",
   "execution_count": null,
   "metadata": {
    "collapsed": true,
    "slideshow": {
     "slide_type": "fragment"
    }
   },
   "outputs": [],
   "source": [
    "1+1"
   ]
  },
  {
   "cell_type": "markdown",
   "metadata": {
    "slideshow": {
     "slide_type": "subslide"
    }
   },
   "source": [
    "Moreover, you can also do some coding!"
   ]
  },
  {
   "cell_type": "code",
   "execution_count": null,
   "metadata": {
    "collapsed": true,
    "slideshow": {
     "slide_type": "fragment"
    }
   },
   "outputs": [],
   "source": [
    "x = 2\n",
    "y = -1\n",
    "z = x + y\n",
    "print(z)"
   ]
  },
  {
   "cell_type": "markdown",
   "metadata": {
    "slideshow": {
     "slide_type": "subslide"
    }
   },
   "source": [
    "Notice the simplicity of the Python syntax in the sense that we do not need to define classes or use a complex and strict structure of parenthesis!"
   ]
  },
  {
   "cell_type": "markdown",
   "metadata": {
    "slideshow": {
     "slide_type": "subslide"
    }
   },
   "source": [
    "# What else can I do in Python?"
   ]
  },
  {
   "cell_type": "markdown",
   "metadata": {
    "slideshow": {
     "slide_type": "fragment"
    }
   },
   "source": [
    "* Python is widely used in **data science**, as it contains a long list of packages that allow importing all kinds of data (i.e. images, sound files, video, spreadsheets, etc.)"
   ]
  },
  {
   "cell_type": "markdown",
   "metadata": {
    "slideshow": {
     "slide_type": "fragment"
    }
   },
   "source": [
    "* Once data has been imported, you can do some data pre-processing:\n",
    "    * Visualising data of interest\n",
    "    * Subsectioning rows/columns\n",
    "    * Augmenting data artificially"
   ]
  },
  {
   "cell_type": "markdown",
   "metadata": {
    "slideshow": {
     "slide_type": "subslide"
    }
   },
   "source": [
    "* Furthermore, you can perform data analysis and statistics to:\n",
    "    * Understand previous and new trends\n",
    "    * Predict values of incoming new data\n",
    "    * Cluster data"
   ]
  },
  {
   "cell_type": "markdown",
   "metadata": {
    "slideshow": {
     "slide_type": "subslide"
    }
   },
   "source": [
    "**BONUS:** In fact, this slideshow was done using one of the numerous Python tools that we have at hand!\n",
    "* I used the *Jupyter Notebook* integrated development environment (IDE) with an extension found online called *Rise*."
   ]
  }
 ],
 "metadata": {
  "celltoolbar": "Slideshow",
  "kernelspec": {
   "display_name": "Python 3",
   "language": "python",
   "name": "python3"
  },
  "language_info": {
   "codemirror_mode": {
    "name": "ipython",
    "version": 3
   },
   "file_extension": ".py",
   "mimetype": "text/x-python",
   "name": "python",
   "nbconvert_exporter": "python",
   "pygments_lexer": "ipython3",
   "version": "3.6.4"
  }
 },
 "nbformat": 4,
 "nbformat_minor": 2
}
