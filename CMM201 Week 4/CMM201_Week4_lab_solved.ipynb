{
 "cells": [
  {
   "cell_type": "markdown",
   "metadata": {},
   "source": [
    "# Week 4 Laboratory\n",
    "In this Jupyter notebook you will have the opportunity to create a \"Main Menu\" that can be used to create a simple interface with the user to present a business case. This menu will be implemented mostly using the *input()* function along conditional statements such as *if/else*, *for* and *while*."
   ]
  },
  {
   "cell_type": "markdown",
   "metadata": {},
   "source": [
    "## The \"yes/no\" Question\n",
    "Usually a software asks the user multiple times if the user wants an action to be executed or not. This yes/no question can be sorted in few lines of code in Python by using the following structure:"
   ]
  },
  {
   "cell_type": "code",
   "execution_count": null,
   "metadata": {},
   "outputs": [],
   "source": [
    "ans = True\n",
    "while ans == True:\n",
    "    print('Do you want to do something?')\n",
    "    x = input()\n",
    "    if x == 'yes':\n",
    "        print('Do something.')\n",
    "        ans = False\n",
    "    elif x == 'no':\n",
    "        print(\"Don't do that something.\")\n",
    "        ans = False\n",
    "    else:\n",
    "        print('Wrong option. Please try again.')\n",
    "    "
   ]
  },
  {
   "cell_type": "markdown",
   "metadata": {},
   "source": [
    "Notice that we start by first setting a variable named $ans$ to *True*. In the second line, we establish a *while* loop which will hold until the value of $ans$ is **not True**. Then, we ask the user to input some text (i.e. a string) into a variable called $x$ by means of the *input* function. Then, we compare the value of $x$ to the strings yes/no that we expect to obtain by using the *if/else* conditional statement. If the string is either of these options, then an action is taken and then the value of $ans$ is set to *False* (so that the while loop breaks). Otherwise, an error message is shown to the user and the while loop continues, which means that the input is requested again."
   ]
  },
  {
   "cell_type": "markdown",
   "metadata": {},
   "source": [
    "## Creating a Simple Menu\n",
    "\n",
    "Using this logic, we can also implement a menu with options (instead of using yes/no, you compare against the options!).\n",
    "\n",
    "For this laboratory, you are requested to create a menu with three options:\n",
    "\n",
    "1. Show the users the first ten multiples of $n$, a number chosen by the user, from $n \\times 1$ to $n \\times 10$).\n",
    "    1. Create a list with the number, then use a for loop to print each number individually.\n",
    "2. Ask the user's $NAME$, then ask if it's raining or not. If it is, then print the message **$NAME$, let's go to the library**, otherwise print **$NAME$, let's go to the beach**.\n",
    "3. Stop/Exit the program."
   ]
  },
  {
   "cell_type": "markdown",
   "metadata": {},
   "source": [
    "Take into account the following hints/limitations:\n",
    "\n",
    "* The program must loop indefinitely until option 3 is selected.\n",
    "* The *input* function only accepts strings, not integers. Therefore if the user inputs a 1, what the user is really inputing is the string '1'. This also implies that in option 1, when you ask the user for a number $n$, you need to convert that input into an integer before using it.\n",
    "* Is there a way in which we can make the yes/no question in option 2 NOT case sensitive? (Hint: look for the $lower()$ function in Python, it might help!)"
   ]
  },
  {
   "cell_type": "code",
   "execution_count": 1,
   "metadata": {},
   "outputs": [
    {
     "name": "stdout",
     "output_type": "stream",
     "text": [
      "Welcome to my menu. Select an option (1,2,3):\n",
      "4\n",
      "Wrong option. Please try again.\n",
      "Welcome to my menu. Select an option (1,2,3):\n",
      "1\n",
      "Insert a number\n",
      "5\n",
      "5\n",
      "10\n",
      "15\n",
      "20\n",
      "25\n",
      "30\n",
      "35\n",
      "40\n",
      "45\n",
      "50\n",
      "Welcome to my menu. Select an option (1,2,3):\n",
      "2\n",
      "Enter your name\n",
      "Carlos\n",
      "Is it raining?\n",
      "he\n",
      "Wrong option. Please try again.\n",
      "Is it raining?\n",
      "Yes\n",
      "Carlos, let's go to the library.\n",
      "Welcome to my menu. Select an option (1,2,3):\n",
      "3\n"
     ]
    }
   ],
   "source": [
    "## Use this cell to implement your code\n",
    "\n",
    "x = True\n",
    "while x:\n",
    "    print('Welcome to my menu. Select an option (1,2,3):')\n",
    "    x = input()\n",
    "    if x == '1':\n",
    "        print('Insert a number')\n",
    "        n = input()\n",
    "        print('The multiples are:')\n",
    "        for a in list(range(1,11)):\n",
    "            print(a*int(n))\n",
    "    elif x == '2':\n",
    "        print('Enter your name')\n",
    "        name = input()\n",
    "        ans = True\n",
    "        while ans:\n",
    "            print('Is it raining?')\n",
    "            y = input()\n",
    "            if y.lower() == 'yes':\n",
    "                print(name+\", let's go to the library.\")\n",
    "                ans = False\n",
    "            elif y.lower() == 'no':\n",
    "                print(name+\", let's go to the beach.\")\n",
    "                ans = False\n",
    "            else:\n",
    "                print('Wrong option. Please try again.')\n",
    "    elif x == '3':\n",
    "        print('Exiting the program')\n",
    "        x = False\n",
    "    else:\n",
    "        print('Wrong option. Please try again.')"
   ]
  },
  {
   "cell_type": "markdown",
   "metadata": {},
   "source": [
    "Once you have finished your implementation, run the program by executing the commands 4-1-2-3 in that order (option 4 is meant to verify that your program does not work with invalid inputs)."
   ]
  }
 ],
 "metadata": {
  "kernelspec": {
   "display_name": "Python 3",
   "language": "python",
   "name": "python3"
  },
  "language_info": {
   "codemirror_mode": {
    "name": "ipython",
    "version": 3
   },
   "file_extension": ".py",
   "mimetype": "text/x-python",
   "name": "python",
   "nbconvert_exporter": "python",
   "pygments_lexer": "ipython3",
   "version": "3.6.4"
  }
 },
 "nbformat": 4,
 "nbformat_minor": 2
}
