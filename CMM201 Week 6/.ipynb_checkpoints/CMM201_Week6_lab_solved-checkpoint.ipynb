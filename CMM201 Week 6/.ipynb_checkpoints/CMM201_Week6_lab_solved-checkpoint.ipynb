{
 "cells": [
  {
   "cell_type": "markdown",
   "metadata": {},
   "source": [
    "# Week 6 Laboratory: Introduction to Numpy Arrays"
   ]
  },
  {
   "cell_type": "markdown",
   "metadata": {},
   "source": [
    "As seen in the lecture, there are plenty of modules in Python that we can import to enhance the existing features. Such is the case of numpy, which is a module that allows us to use vectors and matrices, known onwards as **numpy arrays**. In this laboratory activity we will review the basic feature of numpy and create some basic functions with numpy arrays."
   ]
  },
  {
   "cell_type": "code",
   "execution_count": 1,
   "metadata": {},
   "outputs": [],
   "source": [
    "# Dont forget to import numpy before starting!\n",
    "import numpy as np"
   ]
  },
  {
   "cell_type": "markdown",
   "metadata": {},
   "source": [
    "## Creating a numpy array"
   ]
  },
  {
   "cell_type": "markdown",
   "metadata": {},
   "source": [
    "As you have probably seen during the lecture, creating a numpy array is quite confusing! You need to be very careful with all the parenthesis and brackets that you need to use. For instance, when we create a one-dimensional array (also called a vector), you can do the following:"
   ]
  },
  {
   "cell_type": "code",
   "execution_count": 2,
   "metadata": {},
   "outputs": [
    {
     "data": {
      "text/plain": [
       "array([1, 2, 3])"
      ]
     },
     "execution_count": 2,
     "metadata": {},
     "output_type": "execute_result"
    }
   ],
   "source": [
    "np.array([1,2,3])"
   ]
  },
  {
   "cell_type": "markdown",
   "metadata": {},
   "source": [
    "Moreover, you can also create a two-dimensional numpy array (also called a matrix), but in order to do so, you need to define **two lists inside a list inside the *array()* function**!"
   ]
  },
  {
   "cell_type": "code",
   "execution_count": 3,
   "metadata": {},
   "outputs": [
    {
     "data": {
      "text/plain": [
       "array([[1, 2, 3],\n",
       "       [4, 5, 6]])"
      ]
     },
     "execution_count": 3,
     "metadata": {},
     "output_type": "execute_result"
    }
   ],
   "source": [
    "# List [1,2,3] and list [4,5,6] go inside a list, and then inside the array function.\n",
    "np.array([[1,2,3],[4,5,6]])"
   ]
  },
  {
   "cell_type": "markdown",
   "metadata": {},
   "source": [
    "Keep in mind that to create a matrix, both lists need to be **of the same lenght**, otherwise the numpy array is created as an object containing that contains two lists"
   ]
  },
  {
   "cell_type": "code",
   "execution_count": 4,
   "metadata": {},
   "outputs": [
    {
     "data": {
      "text/plain": [
       "array([list([1, 2, 3]), list([4, 5, 6, 7])], dtype=object)"
      ]
     },
     "execution_count": 4,
     "metadata": {},
     "output_type": "execute_result"
    }
   ],
   "source": [
    "np.array([[1,2,3],[4,5,6,7]])"
   ]
  },
  {
   "cell_type": "markdown",
   "metadata": {},
   "source": [
    "In most cases, we want numpy arrays to be either vectors or matrices. This is because such structures allow us to perform calculations in data science and business analytics such as querying data, altering data, etc. For instance, assume that we want to create a table where each **row** represents a movie and each **column** represents a ranking (from 1 to 5) given by a different movie critic. This could be put into a numpy array as follows:"
   ]
  },
  {
   "cell_type": "code",
   "execution_count": 5,
   "metadata": {},
   "outputs": [
    {
     "name": "stdout",
     "output_type": "stream",
     "text": [
      "[[5 4 5]\n",
      " [4 4 3]\n",
      " [5 5 1]\n",
      " [3 4 5]]\n"
     ]
    }
   ],
   "source": [
    "ranks = np.array([[5,4,5],[4,4,3],[5,5,1],[3,4,5]])\n",
    "print(ranks)"
   ]
  },
  {
   "cell_type": "markdown",
   "metadata": {},
   "source": [
    "In this case, *ranks* contains **four** movies and the rankings of  **three** critics."
   ]
  },
  {
   "cell_type": "markdown",
   "metadata": {},
   "source": [
    "In case that we want to add a new movie, then we can use the **append** function as follows:"
   ]
  },
  {
   "cell_type": "code",
   "execution_count": 6,
   "metadata": {},
   "outputs": [
    {
     "name": "stdout",
     "output_type": "stream",
     "text": [
      "[[5 4 5]\n",
      " [4 4 3]\n",
      " [5 5 1]\n",
      " [3 4 5]\n",
      " [5 5 3]]\n"
     ]
    }
   ],
   "source": [
    "ranks = np.append(ranks,[[5,5,3]],axis=0)\n",
    "print(ranks)"
   ]
  },
  {
   "cell_type": "markdown",
   "metadata": {},
   "source": [
    "Notice that the new movie rankings that we want to append to our *ranks* table needs to be enclosed inside a set of two square brackets. What would happen if we don't do this?"
   ]
  },
  {
   "cell_type": "code",
   "execution_count": 7,
   "metadata": {},
   "outputs": [
    {
     "ename": "ValueError",
     "evalue": "all the input arrays must have same number of dimensions",
     "output_type": "error",
     "traceback": [
      "\u001b[1;31m---------------------------------------------------------------------------\u001b[0m",
      "\u001b[1;31mValueError\u001b[0m                                Traceback (most recent call last)",
      "\u001b[1;32m<ipython-input-7-6a7d4e9b4d35>\u001b[0m in \u001b[0;36m<module>\u001b[1;34m()\u001b[0m\n\u001b[1;32m----> 1\u001b[1;33m \u001b[0mnp\u001b[0m\u001b[1;33m.\u001b[0m\u001b[0mappend\u001b[0m\u001b[1;33m(\u001b[0m\u001b[0mranks\u001b[0m\u001b[1;33m,\u001b[0m\u001b[1;33m[\u001b[0m\u001b[1;36m5\u001b[0m\u001b[1;33m,\u001b[0m\u001b[1;36m5\u001b[0m\u001b[1;33m,\u001b[0m\u001b[1;36m3\u001b[0m\u001b[1;33m]\u001b[0m\u001b[1;33m,\u001b[0m\u001b[0maxis\u001b[0m\u001b[1;33m=\u001b[0m\u001b[1;36m0\u001b[0m\u001b[1;33m)\u001b[0m\u001b[1;33m\u001b[0m\u001b[0m\n\u001b[0m",
      "\u001b[1;32mC:\\ProgramData\\Anaconda3\\envs\\foo\\lib\\site-packages\\numpy\\lib\\function_base.py\u001b[0m in \u001b[0;36mappend\u001b[1;34m(arr, values, axis)\u001b[0m\n\u001b[0;32m   5164\u001b[0m         \u001b[0mvalues\u001b[0m \u001b[1;33m=\u001b[0m \u001b[0mravel\u001b[0m\u001b[1;33m(\u001b[0m\u001b[0mvalues\u001b[0m\u001b[1;33m)\u001b[0m\u001b[1;33m\u001b[0m\u001b[0m\n\u001b[0;32m   5165\u001b[0m         \u001b[0maxis\u001b[0m \u001b[1;33m=\u001b[0m \u001b[0marr\u001b[0m\u001b[1;33m.\u001b[0m\u001b[0mndim\u001b[0m\u001b[1;33m-\u001b[0m\u001b[1;36m1\u001b[0m\u001b[1;33m\u001b[0m\u001b[0m\n\u001b[1;32m-> 5166\u001b[1;33m     \u001b[1;32mreturn\u001b[0m \u001b[0mconcatenate\u001b[0m\u001b[1;33m(\u001b[0m\u001b[1;33m(\u001b[0m\u001b[0marr\u001b[0m\u001b[1;33m,\u001b[0m \u001b[0mvalues\u001b[0m\u001b[1;33m)\u001b[0m\u001b[1;33m,\u001b[0m \u001b[0maxis\u001b[0m\u001b[1;33m=\u001b[0m\u001b[0maxis\u001b[0m\u001b[1;33m)\u001b[0m\u001b[1;33m\u001b[0m\u001b[0m\n\u001b[0m",
      "\u001b[1;31mValueError\u001b[0m: all the input arrays must have same number of dimensions"
     ]
    }
   ],
   "source": [
    "np.append(ranks,[5,5,3],axis=0)"
   ]
  },
  {
   "cell_type": "markdown",
   "metadata": {},
   "source": [
    "Also, notice that the third input of the append function indicates the **axis** to append (axis zero means by rows). If you don't specify the axis, then the function will \"flatten\" your table and add the rankings to the end."
   ]
  },
  {
   "cell_type": "code",
   "execution_count": 8,
   "metadata": {},
   "outputs": [
    {
     "data": {
      "text/plain": [
       "array([5, 4, 5, 4, 4, 3, 5, 5, 1, 3, 4, 5, 5, 5, 3, 5, 5, 3])"
      ]
     },
     "execution_count": 8,
     "metadata": {},
     "output_type": "execute_result"
    }
   ],
   "source": [
    "np.append(ranks.copy(),[[5,5,3]])"
   ]
  },
  {
   "cell_type": "markdown",
   "metadata": {},
   "source": [
    "In this example, we used **ranks.copy()** instead of **ranks** to create a copy of the ranks table and not mess up our original data."
   ]
  },
  {
   "cell_type": "markdown",
   "metadata": {},
   "source": [
    "**Question:** What if we want to add the rankings of a new movie critic? Is there any function in the numpy module that can allow us to include a new column in the *ranks* table? Try to add [1,2,3,4,5] as a new column of the table in the following cell:"
   ]
  },
  {
   "cell_type": "code",
   "execution_count": 9,
   "metadata": {},
   "outputs": [
    {
     "name": "stdout",
     "output_type": "stream",
     "text": [
      "[[5 4 5 1]\n",
      " [4 4 3 2]\n",
      " [5 5 1 3]\n",
      " [3 4 5 4]\n",
      " [5 5 3 5]]\n"
     ]
    }
   ],
   "source": [
    "## OPTION 1: Use this cell to add a new column to ranks using np.append\n",
    "ranks = np.append(ranks,np.array([[1],[2],[3],[4],[5]],axis=1)\n",
    "print(ranks)"
   ]
  },
  {
   "cell_type": "code",
   "execution_count": 9,
   "metadata": {},
   "outputs": [
    {
     "name": "stdout",
     "output_type": "stream",
     "text": [
      "[[5 4 5 1]\n",
      " [4 4 3 2]\n",
      " [5 5 1 3]\n",
      " [3 4 5 4]\n",
      " [5 5 3 5]]\n"
     ]
    }
   ],
   "source": [
    "## OPTION 2: Use this cell to add a new column to ranks using c_\n",
    "ranks = np.c_[ranks,np.array([1,2,3,4,5])]\n",
    "print(ranks)"
   ]
  },
  {
   "cell_type": "markdown",
   "metadata": {},
   "source": [
    "Now you should have a table with five movies and four rankings per movie."
   ]
  },
  {
   "cell_type": "code",
   "execution_count": 10,
   "metadata": {},
   "outputs": [
    {
     "data": {
      "text/plain": [
       "(5, 4)"
      ]
     },
     "execution_count": 10,
     "metadata": {},
     "output_type": "execute_result"
    }
   ],
   "source": [
    "ranks.shape"
   ]
  },
  {
   "cell_type": "markdown",
   "metadata": {},
   "source": [
    "## Querying and changing data in a numpy array"
   ]
  },
  {
   "cell_type": "markdown",
   "metadata": {},
   "source": [
    "Numpy arrays allow us to extract and access certain data by using square brackets after the name of the array. For instance, we can print the first ranking of the first movie critic by running the following code:"
   ]
  },
  {
   "cell_type": "code",
   "execution_count": 11,
   "metadata": {},
   "outputs": [
    {
     "data": {
      "text/plain": [
       "5"
      ]
     },
     "execution_count": 11,
     "metadata": {},
     "output_type": "execute_result"
    }
   ],
   "source": [
    "ranks[0,0]"
   ]
  },
  {
   "cell_type": "markdown",
   "metadata": {},
   "source": [
    "Once again, keep in mind that Python starts its numeration in zero. Moreover, consider that the first zero corresponds to the row, and the second one to the column."
   ]
  },
  {
   "cell_type": "markdown",
   "metadata": {},
   "source": [
    "**Question:** Use the next cell to print the second movie's third ranking (it should be a 3):"
   ]
  },
  {
   "cell_type": "code",
   "execution_count": 12,
   "metadata": {},
   "outputs": [
    {
     "data": {
      "text/plain": [
       "3"
      ]
     },
     "execution_count": 12,
     "metadata": {},
     "output_type": "execute_result"
    }
   ],
   "source": [
    "## Use this cell to print the second movie's third ranking:\n",
    "ranks[1,2]"
   ]
  },
  {
   "cell_type": "markdown",
   "metadata": {},
   "source": [
    "What if a critic changes his mind? Can he access the table and change a ranking? Say movie critic 4 wants to change his 1 ranking in the first movie for a four. We can execute the following code to do so!"
   ]
  },
  {
   "cell_type": "code",
   "execution_count": 13,
   "metadata": {},
   "outputs": [
    {
     "name": "stdout",
     "output_type": "stream",
     "text": [
      "[[5 4 5 4]\n",
      " [4 4 3 2]\n",
      " [5 5 1 3]\n",
      " [3 4 5 4]\n",
      " [5 5 3 5]]\n"
     ]
    }
   ],
   "source": [
    "ranks[0,3] = 4\n",
    "print(ranks)"
   ]
  },
  {
   "cell_type": "markdown",
   "metadata": {},
   "source": [
    "Could we change a ranking for a \"float\" one? Try to change the first ranking of the fourth movie into a 3.5 (HINT: You need to change the type of the numpy array as it is currently defined for integers only!):"
   ]
  },
  {
   "cell_type": "code",
   "execution_count": 14,
   "metadata": {},
   "outputs": [
    {
     "name": "stdout",
     "output_type": "stream",
     "text": [
      "[[5.  4.  5.  4. ]\n",
      " [4.  4.  3.  2. ]\n",
      " [5.  5.  1.  3. ]\n",
      " [3.5 4.  5.  4. ]\n",
      " [5.  5.  3.  5. ]]\n"
     ]
    }
   ],
   "source": [
    "## Use this cell to change the first ranking of the fourth movie into a 3.5\n",
    "ranks = ranks.astype('float64')\n",
    "ranks[3,0] = 3.5\n",
    "print(ranks)"
   ]
  },
  {
   "cell_type": "markdown",
   "metadata": {},
   "source": [
    "As said in the lecture, numpy arrays allow us to perform operations with the data. For instance, we can multiply the numpy array by 2 to double all rankings:"
   ]
  },
  {
   "cell_type": "code",
   "execution_count": 15,
   "metadata": {},
   "outputs": [
    {
     "data": {
      "text/plain": [
       "array([[10.,  8., 10.,  8.],\n",
       "       [ 8.,  8.,  6.,  4.],\n",
       "       [10., 10.,  2.,  6.],\n",
       "       [ 7.,  8., 10.,  8.],\n",
       "       [10., 10.,  6., 10.]])"
      ]
     },
     "execution_count": 15,
     "metadata": {},
     "output_type": "execute_result"
    }
   ],
   "source": [
    "ranks*2"
   ]
  },
  {
   "cell_type": "markdown",
   "metadata": {},
   "source": [
    "## Slicing a numpy array"
   ]
  },
  {
   "cell_type": "markdown",
   "metadata": {},
   "source": [
    "We can also extract the rankings of one movie or one critic. To do so, we use the : symbol to express that we want **ALL** entries. Say that we want to create a variable called *movie0* to store the rankings of the first movie. To do so, we can execute the following code:"
   ]
  },
  {
   "cell_type": "code",
   "execution_count": 16,
   "metadata": {},
   "outputs": [
    {
     "name": "stdout",
     "output_type": "stream",
     "text": [
      "[5. 4. 5. 4.] <class 'numpy.ndarray'> (4,)\n"
     ]
    }
   ],
   "source": [
    "movie0 = ranks[0,:]\n",
    "print(movie0, type(movie0),movie0.shape)"
   ]
  },
  {
   "cell_type": "markdown",
   "metadata": {},
   "source": [
    "Use the following cell to create a numpy array called *critic1* and store the rankings provided by the second critic. Is critic1 the same type and shape as movie0?"
   ]
  },
  {
   "cell_type": "code",
   "execution_count": 17,
   "metadata": {},
   "outputs": [
    {
     "name": "stdout",
     "output_type": "stream",
     "text": [
      "[4. 4. 3. 2.] <class 'numpy.ndarray'> (4,)\n"
     ]
    }
   ],
   "source": [
    "critic1 = ranks[:,1]\n",
    "print(critic1, type(critic1),critic1.shape)"
   ]
  },
  {
   "cell_type": "markdown",
   "metadata": {},
   "source": [
    "Notice that even if *movie0* was extracted form a row and *critic1* from a column, they become horizontal vectors. We know this because of the shape (4,), which means that the array has four entries and no columns. Nonetheless sometimes we explicitly want to create numpy arrays that have an explicit number of rows and columns, like a shape (4,1) or (1,4). To do so, we can use the **reshape** command as follows:"
   ]
  },
  {
   "cell_type": "code",
   "execution_count": 18,
   "metadata": {},
   "outputs": [
    {
     "data": {
      "text/plain": [
       "array([[5., 4., 5., 4.]])"
      ]
     },
     "execution_count": 18,
     "metadata": {},
     "output_type": "execute_result"
    }
   ],
   "source": [
    "movie0.reshape(1,4) # movie0 now has 1 row and 4 columns"
   ]
  },
  {
   "cell_type": "code",
   "execution_count": 19,
   "metadata": {},
   "outputs": [
    {
     "data": {
      "text/plain": [
       "array([[4.],\n",
       "       [4.],\n",
       "       [3.],\n",
       "       [2.]])"
      ]
     },
     "execution_count": 19,
     "metadata": {},
     "output_type": "execute_result"
    }
   ],
   "source": [
    "critic1.reshape(4,1)# critic1 now has 4 row and 1 columns"
   ]
  },
  {
   "cell_type": "markdown",
   "metadata": {},
   "source": [
    "We can even reshape into new shapes (as long as these are coherent)"
   ]
  },
  {
   "cell_type": "code",
   "execution_count": 20,
   "metadata": {},
   "outputs": [
    {
     "data": {
      "text/plain": [
       "array([[5., 4.],\n",
       "       [5., 4.]])"
      ]
     },
     "execution_count": 20,
     "metadata": {},
     "output_type": "execute_result"
    }
   ],
   "source": [
    "movie0.reshape(2,2) # The last two numbers become a second row"
   ]
  },
  {
   "cell_type": "code",
   "execution_count": 21,
   "metadata": {},
   "outputs": [
    {
     "ename": "ValueError",
     "evalue": "cannot reshape array of size 4 into shape (1,3)",
     "output_type": "error",
     "traceback": [
      "\u001b[1;31m---------------------------------------------------------------------------\u001b[0m",
      "\u001b[1;31mValueError\u001b[0m                                Traceback (most recent call last)",
      "\u001b[1;32m<ipython-input-21-2aeae7139408>\u001b[0m in \u001b[0;36m<module>\u001b[1;34m()\u001b[0m\n\u001b[1;32m----> 1\u001b[1;33m \u001b[0mmovie0\u001b[0m\u001b[1;33m.\u001b[0m\u001b[0mreshape\u001b[0m\u001b[1;33m(\u001b[0m\u001b[1;36m1\u001b[0m\u001b[1;33m,\u001b[0m\u001b[1;36m3\u001b[0m\u001b[1;33m)\u001b[0m \u001b[1;31m# Won't work since we need to accomodate four entries\u001b[0m\u001b[1;33m\u001b[0m\u001b[0m\n\u001b[0m",
      "\u001b[1;31mValueError\u001b[0m: cannot reshape array of size 4 into shape (1,3)"
     ]
    }
   ],
   "source": [
    "movie0.reshape(1,3) # Won't work since we need to accomodate four entries"
   ]
  },
  {
   "cell_type": "markdown",
   "metadata": {},
   "source": [
    "We can also access to certain \"regions\" of the table. For instance, with the following command we can show only the rankings of the first two movies:"
   ]
  },
  {
   "cell_type": "code",
   "execution_count": 22,
   "metadata": {},
   "outputs": [
    {
     "data": {
      "text/plain": [
       "array([[5., 4., 5., 4.],\n",
       "       [4., 4., 3., 2.]])"
      ]
     },
     "execution_count": 22,
     "metadata": {},
     "output_type": "execute_result"
    }
   ],
   "source": [
    "ranks[0:2,:]"
   ]
  },
  {
   "cell_type": "markdown",
   "metadata": {},
   "source": [
    "Notice that we are doing two things:\n",
    "* Before the comma, we are defining a range from 0 (inclusive) to 2 (exclusive). Therefore, we indicate that we want the row 0 and 1, but not the 2.\n",
    "* After the comma we have put : which means all."
   ]
  },
  {
   "cell_type": "code",
   "execution_count": 23,
   "metadata": {},
   "outputs": [
    {
     "data": {
      "text/plain": [
       "array([[5. , 4. ],\n",
       "       [4. , 4. ],\n",
       "       [5. , 5. ],\n",
       "       [3.5, 4. ],\n",
       "       [5. , 5. ]])"
      ]
     },
     "execution_count": 23,
     "metadata": {},
     "output_type": "execute_result"
    }
   ],
   "source": [
    "## Use the following cell to access only the first two columns of the ranks table\n",
    "ranks[:,0:2]"
   ]
  },
  {
   "cell_type": "code",
   "execution_count": 24,
   "metadata": {},
   "outputs": [
    {
     "data": {
      "text/plain": [
       "array([[5. , 5. , 1. , 3. ],\n",
       "       [3.5, 4. , 5. , 4. ],\n",
       "       [5. , 5. , 3. , 5. ]])"
      ]
     },
     "execution_count": 24,
     "metadata": {},
     "output_type": "execute_result"
    }
   ],
   "source": [
    "## Use the following cell to access only the last three movies\n",
    "ranks[2:,:]"
   ]
  },
  {
   "cell_type": "code",
   "execution_count": 25,
   "metadata": {},
   "outputs": [
    {
     "data": {
      "text/plain": [
       "array([[5., 4., 5., 4.],\n",
       "       [5., 5., 1., 3.]])"
      ]
     },
     "execution_count": 25,
     "metadata": {},
     "output_type": "execute_result"
    }
   ],
   "source": [
    "## Use the following cell to access all rankings from only the first and third movies \n",
    "## Hint: you can use a list to specify that you want row 0 and row 2.\n",
    "ranks[[0,2],:]"
   ]
  },
  {
   "cell_type": "code",
   "execution_count": 26,
   "metadata": {},
   "outputs": [
    {
     "data": {
      "text/plain": [
       "array([[5., 4., 5.],\n",
       "       [5., 5., 1.]])"
      ]
     },
     "execution_count": 26,
     "metadata": {},
     "output_type": "execute_result"
    }
   ],
   "source": [
    "## Use the following cell to access the first, second and third rankings from the first and third movies.\n",
    "## You need to get as a result array([[5.,4.,5.],[5.,5.,1.]])\n",
    "ranks[[0,2],0:3]"
   ]
  },
  {
   "cell_type": "code",
   "execution_count": 27,
   "metadata": {},
   "outputs": [
    {
     "data": {
      "text/plain": [
       "array([[5., 5.],\n",
       "       [5., 1.]])"
      ]
     },
     "execution_count": 27,
     "metadata": {},
     "output_type": "execute_result"
    }
   ],
   "source": [
    "## Use the following cell to access only the first and third rankings from the first and third movies.\n",
    "## You need to get as a result array([[5.,5.],[5.,1.]])\n",
    "## Hint: You may need to slice twice!\n",
    "ranks[[0,2],:][:,[0,2]]"
   ]
  },
  {
   "cell_type": "markdown",
   "metadata": {},
   "source": [
    "## Adding strings to numpy arrays"
   ]
  },
  {
   "cell_type": "markdown",
   "metadata": {},
   "source": [
    "Why don't we add some row and column names to our *ranks* table? With the functions that you have explored so far, you should be able to add an extra row on top of the numpy array which indicates the critic names (e.g. critic0, critic1,...) and an extra column in the left-hand side of your numpy array which indicates the movie names (e.g. movie0, movie1,...)"
   ]
  },
  {
   "cell_type": "code",
   "execution_count": 28,
   "metadata": {},
   "outputs": [
    {
     "name": "stdout",
     "output_type": "stream",
     "text": [
      "[['X' 'critic0' 'critic1' 'critic2' 'critic3']\n",
      " ['movie0' 5.0 4.0 5.0 4.0]\n",
      " ['movie1' 4.0 4.0 3.0 2.0]\n",
      " ['movie2' 5.0 5.0 1.0 3.0]\n",
      " ['movie3' 3.5 4.0 5.0 4.0]\n",
      " ['movie4' 5.0 5.0 3.0 5.0]]\n"
     ]
    }
   ],
   "source": [
    "## OPTION 2: Use this cell to update ranks with row and column names with append\n",
    "ranks = ranks.astype('object')\n",
    "ranks = np.append(np.asarray([['movie0'],['movie1'],['movie2'],['movie3'],['movie4']]),ranks, axis=1)\n",
    "ranks = np.append([['X','critic0','critic1','critic2','critic3']],ranks,axis=0)\n",
    "print(ranks)"
   ]
  },
  {
   "cell_type": "code",
   "execution_count": 28,
   "metadata": {},
   "outputs": [
    {
     "name": "stdout",
     "output_type": "stream",
     "text": [
      "[['X' 'critic0' 'critic1' 'critic2' 'critic3']\n",
      " ['movie0' 5.0 4.0 5.0 4.0]\n",
      " ['movie1' 4.0 4.0 3.0 2.0]\n",
      " ['movie2' 5.0 5.0 1.0 3.0]\n",
      " ['movie3' 3.5 4.0 5.0 4.0]\n",
      " ['movie4' 5.0 5.0 3.0 5.0]]\n"
     ]
    }
   ],
   "source": [
    "## OPTION 1: Use this cell to update ranks with row and column names with c_\n",
    "ranks = ranks.astype('object')\n",
    "ranks = np.c_[np.asarray(['movie0','movie1','movie2','movie3','movie4']),ranks]\n",
    "ranks = np.append([['X','critic0','critic1','critic2','critic3']],ranks,axis=0)\n",
    "print(ranks)"
   ]
  }
 ],
 "metadata": {
  "kernelspec": {
   "display_name": "Python 3",
   "language": "python",
   "name": "python3"
  },
  "language_info": {
   "codemirror_mode": {
    "name": "ipython",
    "version": 3
   },
   "file_extension": ".py",
   "mimetype": "text/x-python",
   "name": "python",
   "nbconvert_exporter": "python",
   "pygments_lexer": "ipython3",
   "version": "3.6.4"
  }
 },
 "nbformat": 4,
 "nbformat_minor": 2
}
