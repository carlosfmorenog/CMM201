{
 "cells": [
  {
   "cell_type": "markdown",
   "metadata": {},
   "source": [
    "# Coursework Output 2\n",
    "*Instructions*: In this coursework, you will show your domain of the data related Python skills required for business analytics. To do so, you will use packages such as *numpy* and *matplotlib*."
   ]
  },
  {
   "cell_type": "markdown",
   "metadata": {},
   "source": [
    "## Importing and Visualising a Dataset in Python\n",
    "Each student will be assigned a different dataset in a *comma separated value* (*.csv*) format. The main goal is to import such dataset into Python so that you can wrangle and visualise the data in better ways. This will allow you to get your own conclusions and start building up knowledge regarding on how you could potentially learn from data to predict or classify future instances.\n",
    "\n",
    "You must create a program which allows you to select from the following options:\n",
    "1. Import and print your dataset into Python as a numpy array.\n",
    "2. Query and print an instance of the dataset by row number or by id (i.e. first column of the table).\n",
    "3. Create a \"reduced\" dataset (i.e. with less columns) by indicating a list of column names to bring upon this newly created dataset.\n",
    "4. Plot the dataset by means of a scatterplot which relates two columns specified by the user. The plot has to show the $x$ and $y$ axis labels as the chosen columns, and use the *target/class* column (i.e. the last one) as the colour variable.\n",
    "5. Exit the program."
   ]
  },
  {
   "cell_type": "markdown",
   "metadata": {},
   "source": [
    "## Additional Considerations\n",
    "* The program has to check that every input is valid.\n",
    "* No option (except for exit) can be executed until option 1 is executed first."
   ]
  },
  {
   "cell_type": "markdown",
   "metadata": {},
   "source": [
    "## Submission Instructions\n",
    "\n",
    "* Once that you have finished your program, run all cells and run the main program cell using the following sequence of options: 0(wrong option),2(has to fail),1,2(by row index),2(by row name),3,4,5. \n",
    "* Then, without clearing the kernel, generate a html **OR** pdf file from the Jupyter notebook. \n",
    "* Clear the Jupyter notebook kernel, then name both the Jupyter notebook and the html/pdf files with your id number and submit them to the corresponding Moodle's dropbox before **12th December, 2019**."
   ]
  },
  {
   "cell_type": "code",
   "execution_count": null,
   "metadata": {},
   "outputs": [],
   "source": [
    "#Use this cell to install all the things that you don't have\n",
    "!pip install scipy\n",
    "!pip install numpy\n",
    "!pip install matplotlib\n",
    "!pip install panda"
   ]
  },
  {
   "cell_type": "code",
   "execution_count": 2,
   "metadata": {},
   "outputs": [],
   "source": [
    "## Use this cell to import all necessary packages\n",
    "import csv\n",
    "import numpy as np\n",
    "import pandas as pd \n",
    "import matplotlib.pyplot as plt\n",
    "from sklearn.linear_model import LinearRegression\n",
    "from numpy.random import randn\n",
    "from numpy.random import seed\n",
    "from scipy.stats import pearsonr\n",
    "from scipy.stats import spearmanr\n",
    "from numpy import cov"
   ]
  },
  {
   "cell_type": "code",
   "execution_count": 3,
   "metadata": {},
   "outputs": [],
   "source": [
    "## Use this cell to define the function corresponding to OPTION 2\n",
    "def option1():\n",
    "    '''With this function you import the dataset into a numpy array.'''\n",
    "    global data \n",
    "    global headers\n",
    "    #by using this they become global variables \n",
    "    with open('baseball.csv', 'r') as f:\n",
    "        reader = csv.reader(f, delimiter=',')\n",
    "        # get header from first row\n",
    "        headers = next(reader)\n",
    "        # get all the rows as a list\n",
    "        data = list(reader)\n",
    "        # transform data into numpy array\n",
    "        data = np.array(data).astype(float)\n",
    "        print(headers)\n",
    "        print(data)\n",
    "    return data,headers "
   ]
  },
  {
   "cell_type": "code",
   "execution_count": 4,
   "metadata": {},
   "outputs": [],
   "source": [
    "## Use this cell to define the function corresponding to OPTION 2\n",
    "\n",
    "def option2():\n",
    "    '''This function queries and prints a row of the dataset (by row number or id).'''\n",
    "    x = True\n",
    "    while x:\n",
    "        print('Select 1 to query by row number or 2 to query by row name:')\n",
    "        x= input()\n",
    "        if x == '1':\n",
    "            if not optionrow()==3:\n",
    "                x=False\n",
    "            break\n",
    "        elif x == '2':\n",
    "            if not optionid()== 3:\n",
    "                x=False\n",
    "            break\n",
    "        else:\n",
    "            print('Error, please try again.')\n",
    "    return \n",
    "\n",
    "          \n",
    "        "
   ]
  },
  {
   "cell_type": "code",
   "execution_count": 5,
   "metadata": {},
   "outputs": [],
   "source": [
    "def optionrow():\n",
    "    r=True\n",
    "    count=0\n",
    "    while count<3:\n",
    "        try:\n",
    "            print('Select the row number to query (indexes start in 0)')\n",
    "            r=int(input())\n",
    "            if r in range (0,150):\n",
    "                print(data [r,:])\n",
    "                r=False\n",
    "                break  \n",
    "            else:\n",
    "                print('The index number is unvalid. Please try again.')\n",
    "                count+=1\n",
    "                print(\"Careful, number of attempts\", count, \"/3\")\n",
    "                continue\n",
    "        except ValueError:\n",
    "            print(\"Sorry, I didn't understand that, please try again,remember indexes start in 0\")\n",
    "            #try again: return to the start of the loop\n",
    "            continue\n",
    "        else:\n",
    "            #exit the loop.\n",
    "            break\n",
    "    return count"
   ]
  },
  {
   "cell_type": "code",
   "execution_count": 6,
   "metadata": {},
   "outputs": [],
   "source": [
    "def optionid():\n",
    "    i=True\n",
    "    count_1=0\n",
    "    while count_1<3:\n",
    "        try:\n",
    "            print('Select the id to query:')\n",
    "            i=int(input())\n",
    "            if np.any(data[:,0]== i) :\n",
    "                print(data[np.where(data[:,0]== i),:])\n",
    "                i=False\n",
    "                break\n",
    "            else:\n",
    "                print(\"Sorry I don't recognise that Id\")\n",
    "                count_1 += 1\n",
    "                print(\"Careful, number of attempts\", count_1, \"/3\")\n",
    "                continue\n",
    "        except ValueError:\n",
    "            print(\"Sorry, I didn't understand that, please try again\")\n",
    "            #try again: return to the start of the loop\n",
    "            continue\n",
    "        else:\n",
    "            #exit the loop.\n",
    "            break \n",
    "    return count_1"
   ]
  },
  {
   "cell_type": "code",
   "execution_count": 7,
   "metadata": {},
   "outputs": [],
   "source": [
    "## Use this cell to define the function corresponding to OPTION 3\n",
    "\n",
    "def option3():\n",
    "    '''This function creates a new dataset by indicating which columns to include.'''\n",
    "    ## Use this cell to update ranks with row and column names\n",
    "    fresh_names = []\n",
    "    a=True\n",
    "    while True:\n",
    "        try:\n",
    "            print('Indicate a column to include:') \n",
    "            print(headers)\n",
    "            a= input()   \n",
    "            if a.lower() in headers:\n",
    "                fresh= (data[:,headers.index(a.lower())])\n",
    "                fresh_names.append(a.lower())\n",
    "                break\n",
    "            else:\n",
    "                print('Sorry, the column indicated does not exist or has already been indicated, as a reminder:')\n",
    "                continue\n",
    "        except ValueError:\n",
    "            print('Sorry, try again')\n",
    "                #try again: return to the start of the loop\n",
    "            continue\n",
    "    print('Would you like to include another column?')\n",
    "    column=True\n",
    "    while True:\n",
    "            try:\n",
    "                column = input (\"Enter yes/no to continue\")\n",
    "                if column.lower()==\"yes\":\n",
    "                    print('Indicate a column to include:') \n",
    "                    print(headers)\n",
    "                    b= input()\n",
    "                    if not b.lower() in fresh_names:\n",
    "                        if b.lower() in headers:\n",
    "                            fresh_names.append(b.lower())\n",
    "                            fresh= np.c_[fresh,np.array(data[:,headers.index(b.lower())])]\n",
    "                            print('Would you like to include another column?')\n",
    "                            continue \n",
    "                        else:\n",
    "                            print('Sorry, the column indicated does not exist, as a reminder:')   \n",
    "                            print(headers)\n",
    "                            continue\n",
    "                    else:\n",
    "                        print('Sorry the column has already been indicated, as a reminder:')\n",
    "                        print(headers)\n",
    "                        continue            \n",
    "                elif column.lower()==\"no\":\n",
    "                    print('Showing the reduced data set:', fresh_names, fresh)\n",
    "                    print('Returning to options')\n",
    "                    break\n",
    "                else:\n",
    "                    print(\"Sorry I did not understand that, enter either yes/no\")\n",
    "            except ValueError:\n",
    "                print('Sorry, try again')\n",
    "                #try again: return to the start of the loop\n",
    "                continue \n",
    "    return          \n",
    "    #ask how to put headers as well, in the included data set \n"
   ]
  },
  {
   "cell_type": "code",
   "execution_count": 8,
   "metadata": {},
   "outputs": [],
   "source": [
    "## Use this cell to define the function corresponding to OPTION 4:\n",
    "def option4():\n",
    "    axisx=True\n",
    "    while True:\n",
    "        try: \n",
    "            print('Select the variable to use as x axis')\n",
    "            print(headers)\n",
    "            axisx= input().lower()\n",
    "            if axisx in headers:\n",
    "                    new_plot= (data[:,headers.index(axisx)])\n",
    "                    break\n",
    "            else:\n",
    "                print('Sorry, the column does not exist, please try again')\n",
    "                continue         \n",
    "        except ValueError:\n",
    "            print('Sorry, try again')\n",
    "            #try again: return to the start of the loop\n",
    "            continue\n",
    "    axisy=True\n",
    "    while True:\n",
    "        try: \n",
    "            print('Select the variable to use as y axis')\n",
    "            print(headers)\n",
    "            axisy= input().lower()\n",
    "            if not axisy== axisx:\n",
    "                if axisy in headers:\n",
    "                        new_plot= np.c_[new_plot,np.array(data[:,headers.index(axisy)])]\n",
    "                        break\n",
    "                else:\n",
    "                    print('Sorry, the column does not exist, please try again')\n",
    "                    continue    \n",
    "            else:\n",
    "                print(\"Sorry,this column has already been selected,select a different column.\")\n",
    "                continue\n",
    "        except ValueError:\n",
    "            print('Sorry, try again')\n",
    "            #try again: return to the start of the loop\n",
    "            continue\n",
    "    plt.scatter(new_plot[:,0],new_plot[:,1], c=data[:,-1], cmap='flag')\n",
    "    x= data[:,headers.index(axisx)]\n",
    "    y= data[:,headers.index(axisy)]\n",
    "    plt.xlabel(axisx)\n",
    "    plt.ylabel(axisy)\n",
    "    plt.xkcd()\n",
    "    plt.show()\n",
    "    return"
   ]
  },
  {
   "cell_type": "code",
   "execution_count": null,
   "metadata": {},
   "outputs": [
    {
     "name": "stdout",
     "output_type": "stream",
     "text": [
      "Welcome to Valentina Lauto 1505495 business case.\n",
      "Select an option (1 to 5):\n",
      "potato\n",
      "Error, please try again.\n",
      "Select an option (1 to 5):\n",
      "2\n",
      "The first option to be selected shall be 1. Please try again\n",
      "Select an option (1 to 5):\n"
     ]
    }
   ],
   "source": [
    "## Use this cell to create the \"main\" part of your program\n",
    "print('Welcome to Valentina Lauto 1505495 business case.') \n",
    "options = []\n",
    "x = True\n",
    "while x:\n",
    "    print('Select an option (1 to 5):')\n",
    "    x = input()\n",
    "    options.append(x)\n",
    "    if x == '1':\n",
    "        print('The dataset has been imported!')\n",
    "        option1()\n",
    "    elif x == '2':\n",
    "        if '1' in options:\n",
    "            option2()\n",
    "        else:\n",
    "            print('The first option to be selected shall be 1. Please try again')\n",
    "    elif x == '3':\n",
    "        if '1' in options:\n",
    "            player_id= data[:,headers.index('player id')] \n",
    "            headers.index('player id')\n",
    "            team = headers.index('team')\n",
    "            position= headers.index('position')\n",
    "            height= headers.index ('height')\n",
    "            weight= headers.index('weight')\n",
    "            age= headers.index('age')\n",
    "            trans= headers.index('transferable?')\n",
    "            interesting=headers.index('interesting?')\n",
    "            option3()\n",
    "        else:\n",
    "            print('The first option to be selected shall be 1. Please try again')\n",
    "    elif x == '4':\n",
    "        if '1' in options:\n",
    "            option4()\n",
    "        else:\n",
    "            print('The first option to be selected shall be 1. Please try again')\n",
    "    elif x == '5':\n",
    "        print('Exiting the program')\n",
    "        x = False\n",
    "    else:\n",
    "         print('Error, please try again.')"
   ]
  },
  {
   "cell_type": "markdown",
   "metadata": {},
   "source": [
    "## Questions\n",
    "Please answer the following questions to appraise your level of engagement with the content of the course. Use the Markdown cell corresponding to each question to write your answers."
   ]
  },
  {
   "cell_type": "markdown",
   "metadata": {},
   "source": [
    "#### 1. Is there any other data structure or module in Python (besides *numpy*) which would allow you to import a *.csv* file in a more practical and manageable way? Use a code cell to support your answer."
   ]
  },
  {
   "cell_type": "markdown",
   "metadata": {},
   "source": [
    "### *Answer*\n",
    "\n",
    "Another library contained in python that would allow me to import a .csv file in a more practical an manageable way (if compared to numpy arrays) is Panda. -See code contained below. \n",
    "By importing the csv through the panda library the data, a part from being more practical, becomes more easy to see and to visualise. \n"
   ]
  },
  {
   "cell_type": "code",
   "execution_count": null,
   "metadata": {},
   "outputs": [],
   "source": [
    "# Read data from file 'filename.csv' \n",
    "# (in the same directory that your jupyternotebook is based)\n",
    "# Control delimiters, rows, column names with read_csv \n",
    "pandita = pd.read_csv(\"baseball.csv\") \n",
    "# Preview the first 5 lines of the loaded data \n",
    "pandita.head()\n"
   ]
  },
  {
   "cell_type": "markdown",
   "metadata": {},
   "source": [
    "For example to visualise the information contained in the first Row. I would just have to write this"
   ]
  },
  {
   "cell_type": "code",
   "execution_count": null,
   "metadata": {},
   "outputs": [],
   "source": [
    "pandita.loc[0]"
   ]
  },
  {
   "cell_type": "markdown",
   "metadata": {},
   "source": [
    "#### 2. Using any of the two continuous variables of your dataset, using a cell code show an example of how a **linear regression** could be applied with your dataset to predict the values of future entries of data without target/class (you can implement linear regressions using existing Python modules). Moreover, discuss if there is any metric that can be used to decide which two variables are the most correlated."
   ]
  },
  {
   "cell_type": "markdown",
   "metadata": {},
   "source": [
    "### *Answers:*"
   ]
  },
  {
   "cell_type": "markdown",
   "metadata": {},
   "source": [
    "A linear regression could be applied to my dataset in order to predict the values of future entries without target/class in the following way: (see code)"
   ]
  },
  {
   "cell_type": "code",
   "execution_count": null,
   "metadata": {},
   "outputs": [],
   "source": [
    "###### Use this cell to implement a linear regression between two variables\n",
    "X = pandita.iloc[:,3].values.reshape(-1, 1)  # values converts it into a numpy array\n",
    "Y = pandita.iloc[:, 4].values.reshape(-1, 1)  # -1 means that calculate the dimension of rows, but have 1 column\n",
    "x_lab= \"height\"\n",
    "y_lab= \"weight\" \n",
    "linear_regressor = LinearRegression()  # create object for the class\n",
    "linear_regressor.fit(X, Y)  # perform linear regression\n",
    "Y_pred = linear_regressor.predict(X)  # make predictions\n",
    "plt.scatter(X, Y)\n",
    "plt.xlabel(x_lab)\n",
    "plt.ylabel(y_lab)\n",
    "plt.plot(X, Y_pred, color= 'red')\n",
    "plt.xkcd()\n",
    "plt.show()\n",
    "print (Y_pred) #gives me all the predicitions \n"
   ]
  },
  {
   "cell_type": "markdown",
   "metadata": {},
   "source": [
    "If I would like to predict just one value. Then I would do this \n",
    "-see code below:"
   ]
  },
  {
   "cell_type": "code",
   "execution_count": null,
   "metadata": {},
   "outputs": [],
   "source": [
    "print('select the height for which you would like to get a weight prediction')\n",
    "while True:\n",
    "    try:\n",
    "        sample=int(input())\n",
    "        sample_y=linear_regressor.predict([[sample]])\n",
    "        print(\"The predicted weight is:\" , sample_y)\n",
    "    except ValueError:\n",
    "        print(\"Sorry, I didn't understand that, please try again\")\n",
    "        #try again: return to the start of the loop\n",
    "        continue\n",
    "    else:\n",
    "    #exit the loop.\n",
    "         break"
   ]
  },
  {
   "cell_type": "markdown",
   "metadata": {},
   "source": [
    "There are several metrics that can be used to decide which two variables are the most correlated. Such as Covariance, Pearson’s Correlation and Spearman’s Correlation.\n",
    "\n",
    "### *Covariance*##\n",
    " \n",
    "\" Variables can be related by a linear relationship. This is a relationship that is consistently additive across the two data samples.This relationship can be summarised between two variables, called the covariance\"(Brownlee 20018 p.100).In simpler words, covariance is a measure of how much two random variables vary together. \n",
    "\n",
    "This is calculated as follows: \n",
    "\n",
    "#### cov(X, Y) = (sum (x - mean(X)) * (y - mean(Y)) ) * 1/(n-1)\n",
    "\n"
   ]
  },
  {
   "cell_type": "code",
   "execution_count": null,
   "metadata": {},
   "outputs": [],
   "source": [
    "#covariance\n",
    "# random number generator\n",
    "seed(1)\n",
    "# prepare data\n",
    "ex1 = 30 * randn(500) + 100\n",
    "ex2 = ex1 + (10 * randn(500) + 50)\n",
    "# calculate covariance matrix\n",
    "covariance = cov(ex1, ex2)\n",
    "print(covariance)\n",
    "print ('In this specific case, the covariance between the two variables is 887.4')\n"
   ]
  },
  {
   "cell_type": "markdown",
   "metadata": {},
   "source": [
    "\n",
    "\n",
    "###   *Pearson’s Correlation*###\n",
    "\n",
    "The Pearson correlation coefficient can be used to measure and discover the strength of the linear relationship between two variables (Brownlee 2018).  This is calculated as follows: \n",
    "#### Pearson's correlation coefficient = covariance(X, Y) / (stdv(X) * stdv(Y))\n",
    "\n",
    "\n"
   ]
  },
  {
   "cell_type": "code",
   "execution_count": null,
   "metadata": {},
   "outputs": [],
   "source": [
    "# seed random number generator\n",
    "seed(1)\n",
    "# create data \n",
    "ex1 = 30 * randn(500) + 100\n",
    "ex2 = ex1 + (10 * randn(500) + 50)\n",
    "# calculate Pearson's correlation\n",
    "corr, _ = pearsonr(ex1, ex2)\n",
    "print('Pearsons correlation: %.3f' % corr)"
   ]
  },
  {
   "cell_type": "markdown",
   "metadata": {},
   "source": [
    "\n",
    "### *Spearman’s Correlation*###\n",
    "\n",
    "The Spearman correlation evaluates the relationship between two continuous or ordinal variables that change together but not necessarily at a constant rate ( monotonic relationship) Further,the two  variables may not have a normal(Gaussian) distribution.  In this case, the Spearman’s correlation coefficient can be used to summarise the strength between the two data samples(Brownlee 2018). \n",
    "\n",
    "This correlation is calculated as follows: \n",
    "\n",
    "#### Spearman's correlation coefficient = covariance(rank(X), rank(Y)) / (stdv(rank(X)) "
   ]
  },
  {
   "cell_type": "code",
   "execution_count": null,
   "metadata": {},
   "outputs": [],
   "source": [
    "# seed random number generator\n",
    "seed(1)\n",
    "# prepare data\n",
    "data1 = 20 * randn(1000) + 100\n",
    "data2 = data1 + (10 * randn(1000) + 50)\n",
    "# calculate spearman's correlation\n",
    "corr, _ = spearmanr(data1, data2)\n",
    "print('Spearmans correlation: %.3f' % corr)"
   ]
  },
  {
   "cell_type": "markdown",
   "metadata": {},
   "source": [
    "### *REFERENCES: \n",
    "\n",
    "BROWNLEE, J.,2018. *Statistical Methods for Machine Learning*. Vermont, AU :N/A.  "
   ]
  }
 ],
 "metadata": {
  "hide_input": false,
  "kernelspec": {
   "display_name": "Python 3",
   "language": "python",
   "name": "python3"
  },
  "language_info": {
   "codemirror_mode": {
    "name": "ipython",
    "version": 3
   },
   "file_extension": ".py",
   "mimetype": "text/x-python",
   "name": "python",
   "nbconvert_exporter": "python",
   "pygments_lexer": "ipython3",
   "version": "3.6.4"
  }
 },
 "nbformat": 4,
 "nbformat_minor": 2
}
