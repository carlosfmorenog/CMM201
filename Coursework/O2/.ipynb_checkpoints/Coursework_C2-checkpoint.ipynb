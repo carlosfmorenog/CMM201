{
 "cells": [
  {
   "cell_type": "markdown",
   "metadata": {},
   "source": [
    "# Coursework Component 2\n",
    "*Instructions*: In this coursework, you will show your domain of the data related Python skills required for business analytics. To do so, you will use packages such as pandas and matplotlib."
   ]
  },
  {
   "cell_type": "markdown",
   "metadata": {},
   "source": [
    "## Importing and Visualising a Business Case in Python\n",
    "Each student will be assigned a different dataset in a different format. The goal is to import the dataset into Python so that you can wrangle and visualise the data in better ways. This will allow you to get your own conclusions and start building up knowledge regarding on how you could potentially learn from data to predict or classify future instances.\n",
    "\n",
    "You must create a program which allows you to select the following options:\n",
    "1. Import your dataset into the Python environment.\n",
    "2. Query and print an instance of the dataset (by row number or by row name).\n",
    "3. Create a new dataset with less columns by indicating a list of columns to bring upon a new reduced dataset.\n",
    "4. Randomly split the dataset into two substes called *training* and *testing* according to a ratio specified by the user.\n",
    "5. Visualise a dataset using a scatterplot which relates two variables specified by the user.\n",
    "    1. The user shall also be capable to specify the chart title and the $x$ and $y$ labels, as well as a fixed colour and size for the dots in the plot.\n",
    "    2. Alternatively, the user may SPECIFY the *TARGET/CLASS* column as the colour differentiator. If that is the case, then the program has to show the user the targets/classes and ask the user to specify a colour for each target/class.\n",
    "6. Exit the program."
   ]
  },
  {
   "cell_type": "markdown",
   "metadata": {},
   "source": [
    "## Additional Considerations\n",
    "* The program has to check that every input option added by the user is valid.\n",
    "* No option can be executed until option 1 is executed first.\n",
    "* Whenever a dataset or subdataset is imported or created, print it for the user to visually inspect it.\n",
    "* In option 2, the row to query can be specified either using the row number or the row name.\n",
    "* In option 3, the list of columns has to be specified by column name.\n",
    "* Option 5 can receive as input either the original dataset or the training/testing ones (if these have been already created).\n"
   ]
  },
  {
   "cell_type": "markdown",
   "metadata": {},
   "source": [
    "## Submission Instructions\n",
    "\n",
    "* Once that you have finished your program, run all cells and run the main program cell using the sequence of options 0-2-1-2-3-4-5-6 (option 0 is purposely created to verify that your program can handle the error). \n",
    "* Then, without clearing the kernel, generate a html **OR** pdf file from the Jupyter notebook. \n",
    "* Name both the Jupyter notebook and the html/pdf file with your id number and submit them to the corresponding Moodle's dropbox before **12th December, 2019**."
   ]
  },
  {
   "cell_type": "code",
   "execution_count": null,
   "metadata": {},
   "outputs": [],
   "source": [
    "## Use this cell to import all necessary packages\n"
   ]
  },
  {
   "cell_type": "code",
   "execution_count": null,
   "metadata": {},
   "outputs": [],
   "source": [
    "## Use this cell to define the function corresponding to OPTION 1\n",
    "def option1():\n",
    "    '''With this function you import the dataset.'''\n",
    "    return name"
   ]
  },
  {
   "cell_type": "code",
   "execution_count": null,
   "metadata": {},
   "outputs": [],
   "source": [
    "## Use this cell to define the function corresponding to OPTION 2\n",
    "\n",
    "def option2():\n",
    "    '''This function queries and prints an instance of the dataset.'''\n",
    "    return"
   ]
  },
  {
   "cell_type": "code",
   "execution_count": null,
   "metadata": {},
   "outputs": [],
   "source": [
    "## Use this cell to define the function corresponding to OPTION 3\n",
    "\n",
    "def option3():\n",
    "    '''This function creates a new dataset by indicating which columns to remove.'''\n",
    "    return"
   ]
  },
  {
   "cell_type": "code",
   "execution_count": null,
   "metadata": {},
   "outputs": [],
   "source": [
    "## Use this cell to define the function corresponding to OPTION 4\n",
    "\n",
    "def option4():\n",
    "    '''This function'''\n",
    "    return"
   ]
  },
  {
   "cell_type": "code",
   "execution_count": null,
   "metadata": {},
   "outputs": [],
   "source": [
    "## Use this cell to define the function corresponding to OPTION 4\n",
    "\n",
    "def option5():\n",
    "    '''This function'''\n",
    "    return"
   ]
  },
  {
   "cell_type": "code",
   "execution_count": null,
   "metadata": {},
   "outputs": [],
   "source": [
    "## Use this cell to create the \"main\" part of your program\n",
    "print('Welcome to ***NAME AND ID*** business case.')"
   ]
  },
  {
   "cell_type": "markdown",
   "metadata": {},
   "source": [
    "## Questions\n",
    "Please answer the following questions to appraise your level of engagement with the content of the course. Use the Markdown cell corresponding to each question to write your answers."
   ]
  },
  {
   "cell_type": "markdown",
   "metadata": {},
   "source": [
    "1. In the dataset that was assigned to you, did you notice any two variables that were correlated or that allowed the dataset to be clustered into groups?\n",
    "\n",
    "**ANSWER:**"
   ]
  },
  {
   "cell_type": "code",
   "execution_count": null,
   "metadata": {},
   "outputs": [],
   "source": [
    "# Use this cell to plot a scatterplot of your dataset which supports your answer."
   ]
  },
  {
   "cell_type": "markdown",
   "metadata": {},
   "source": [
    "2. Describe how a linear regression could be used to predict the values of new data.\n",
    "\n",
    "**ANSWER:**"
   ]
  },
  {
   "cell_type": "code",
   "execution_count": null,
   "metadata": {},
   "outputs": [],
   "source": [
    "# Use this cell if you want to show how to implement a linear regression in your dataset."
   ]
  },
  {
   "cell_type": "markdown",
   "metadata": {},
   "source": [
    "3. Describe how a clustering algorithm (such as hierarchical or k-means) could allow to cluster data into groups.\n",
    "\n",
    "**ANSWER:**"
   ]
  },
  {
   "cell_type": "code",
   "execution_count": null,
   "metadata": {},
   "outputs": [],
   "source": [
    "# Use this cell if you want to show how to implement clustering in your dataset."
   ]
  }
 ],
 "metadata": {
  "kernelspec": {
   "display_name": "Python 3",
   "language": "python",
   "name": "python3"
  },
  "language_info": {
   "codemirror_mode": {
    "name": "ipython",
    "version": 3
   },
   "file_extension": ".py",
   "mimetype": "text/x-python",
   "name": "python",
   "nbconvert_exporter": "python",
   "pygments_lexer": "ipython3",
   "version": "3.6.4"
  }
 },
 "nbformat": 4,
 "nbformat_minor": 2
}
