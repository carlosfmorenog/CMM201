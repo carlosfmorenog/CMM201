{
 "cells": [
  {
   "cell_type": "markdown",
   "metadata": {},
   "source": [
    "# Coursework Component 1\n",
    "*Instructions*: In this coursework, you will show your domain of the basic Python skills required for business analytics. You will use elemental concepts such as data structures, conditional statements and functions, amongst others. To do so, you will use the following Jupyter Notebook as a template."
   ]
  },
  {
   "cell_type": "markdown",
   "metadata": {},
   "source": [
    "## Creating a basic Python program\n",
    "You have to create a basic program that enables the user **FIVE** options:\n",
    "1. Input your name and id number. Then, the program has to print a message greeting you with your name and the addition of the digits that compose your id number.\n",
    "2. Count and print the number of letter $a$ in your name.\n",
    "3. Create a numpy array with $n$ rows, $m$ columns and random numbers (from 1 to 10) as the content. The values $n$ and $m$ are defined by the user, and the value of $n$ can't be larger than $m$. Otherwise, the user has to try again. Once the numpy array is created, print it for the user.\n",
    "4. Print the value of a specific position of the numpy array. This function has to check that both the values of the row and the column where the user wants to get the value are valid (this means that the row and column to query have to be equal or smaller than the shape of the numpy array). Otherwise, the user has to try again.\n",
    "\n",
    "5. Exit the program."
   ]
  },
  {
   "cell_type": "markdown",
   "metadata": {},
   "source": [
    "## Additional considerations\n",
    "\n",
    "You need to consider the following aspects for the design of your program:\n",
    "\n",
    "1. If a non-available option is inserted by the user (for example, a 0), then your program must print an *Error* message and request for a new try until the user successfully requests a valid option.\n",
    "2. Option \"2\" cannot be selected if option \"1\" has not been selected first. However, the program must NOT stop or crash, but rather offer the user option 1 instead.\n",
    "3. Option \"4\" cannot be selected if option \"3\" has not been selected first. However, the program must NOT stop or crash, but rather offer the user option 3 instead."
   ]
  },
  {
   "cell_type": "markdown",
   "metadata": {},
   "source": [
    "## Submission Instructions\n",
    "\n",
    "* Once that you have finished your program, run all cells and run your program, executing from option 0 to option 5 (**NOTE**: option 0 is purposely included to test if your program can handle incorrect inputs). \n",
    "* Then, without clearing the kernel, generate a html **OR** pdf file from the jupyter notebook. \n",
    "* Name both the jupyter notebook and the html/pdf file with your id number and submit them to the corresponding Moodle's dropbox before **7th November, 2019**."
   ]
  },
  {
   "cell_type": "code",
   "execution_count": 1,
   "metadata": {},
   "outputs": [],
   "source": [
    "## Use this cell to import all necessary packages\n",
    "\n",
    "import numpy as np\n",
    "import sys"
   ]
  },
  {
   "cell_type": "code",
   "execution_count": 2,
   "metadata": {},
   "outputs": [],
   "source": [
    "## Use this cell to define the function corresponding to OPTION 1\n",
    "\n",
    "def option1():\n",
    "    '''With this function you input name and id number'''\n",
    "    print('Write your name')\n",
    "    name = input('>> ')\n",
    "    print('Write your id number')\n",
    "    idnumber  = input('>> ')\n",
    "    sumid = 0\n",
    "    for i in idnumber:\n",
    "        sumid = sumid + int(i)\n",
    "    print('Hi '+name+', the sum of the digits of your id is: ', sumid)\n",
    "    return name"
   ]
  },
  {
   "cell_type": "code",
   "execution_count": 3,
   "metadata": {},
   "outputs": [],
   "source": [
    "## Use this cell to define the function corresponding to OPTION 2\n",
    "\n",
    "def option2(name):\n",
    "    '''This function prints the number of \"a's\" in the name.'''\n",
    "    print('The number of letter \"a\" in your name is: ', name.count(\"a\"))\n",
    "    return"
   ]
  },
  {
   "cell_type": "code",
   "execution_count": 4,
   "metadata": {},
   "outputs": [],
   "source": [
    "## Use this cell to define the function corresponding to OPTION 3\n",
    "\n",
    "def option3():\n",
    "    '''This function allows to create a nxm numpy array with random values'''\n",
    "    ans = True\n",
    "    while ans:\n",
    "        print('Write the value of n')\n",
    "        n = input('>> ')\n",
    "        print('Write the value of m')\n",
    "        m = input('>> ')\n",
    "        if int(n)<=int(m):\n",
    "            array = np.random.rand(int(n),int(m))*10\n",
    "            ans = False\n",
    "            print(array)\n",
    "        else:\n",
    "            print('n cannot be larger than m. Please try again.')\n",
    "    return array"
   ]
  },
  {
   "cell_type": "code",
   "execution_count": 5,
   "metadata": {},
   "outputs": [],
   "source": [
    "## Use this cell to define the function corresponding to OPTION 4\n",
    "\n",
    "def option4(array):\n",
    "    '''This function allows to search and print one register of the numpy array created in option 3'''\n",
    "    ans = True\n",
    "    while ans:\n",
    "        print('Write the value of n')\n",
    "        n = input('>> ')\n",
    "        print('Write the value of m')\n",
    "        m = input('>> ')\n",
    "        if int(n)+1<=array.shape[0] and int(m)+1<=array.shape[1]:\n",
    "            print(array[int(n),int(m)])\n",
    "            ans = False\n",
    "        else:\n",
    "            print('n and m have to be smaller than the dimension of the array. Please try again.')\n",
    "    return"
   ]
  },
  {
   "cell_type": "code",
   "execution_count": 6,
   "metadata": {},
   "outputs": [
    {
     "name": "stdout",
     "output_type": "stream",
     "text": [
      "Welcome to ***NAME AND ID*** program\n",
      "Select and option\n",
      ">> 0\n",
      "Error, try again\n",
      "Select and option\n",
      ">> 1\n",
      "Write your name\n",
      ">> Carlos\n",
      "Write your id number\n",
      ">> 1813072\n",
      "Hi Carlos, the sum of the digits of your id is:  22\n",
      "Select and option\n",
      ">> 2\n",
      "The number of letter \"a\" in your name is:  1\n",
      "Select and option\n",
      ">> 3\n",
      "Write the value of n\n",
      ">> 4\n",
      "Write the value of m\n",
      ">> 3\n",
      "n cannot be larger than m. Please try again.\n",
      "Write the value of n\n",
      ">> 3\n",
      "Write the value of m\n",
      ">> 4\n",
      "[[2.97756992 5.99305639 7.39894926 1.88937649]\n",
      " [0.33674134 8.62603303 7.19992883 5.74804739]\n",
      " [5.08790493 0.18354282 1.02456388 1.15414023]]\n",
      "Select and option\n",
      ">> 4\n",
      "Write the value of n\n",
      ">> 5\n",
      "Write the value of m\n",
      ">> 1\n",
      "n and m have to be smaller than the dimension of the array. Please try again.\n",
      "Write the value of n\n",
      ">> 2\n",
      "Write the value of m\n",
      ">> 2\n",
      "1.0245638811320812\n",
      "Select and option\n",
      ">> 5\n"
     ]
    },
    {
     "ename": "SystemExit",
     "evalue": "",
     "output_type": "error",
     "traceback": [
      "An exception has occurred, use %tb to see the full traceback.\n",
      "\u001b[1;31mSystemExit\u001b[0m\n"
     ]
    },
    {
     "name": "stderr",
     "output_type": "stream",
     "text": [
      "C:\\ProgramData\\Anaconda3\\envs\\foo\\lib\\site-packages\\IPython\\core\\interactiveshell.py:2918: UserWarning: To exit: use 'exit', 'quit', or Ctrl-D.\n",
      "  warn(\"To exit: use 'exit', 'quit', or Ctrl-D.\", stacklevel=1)\n"
     ]
    }
   ],
   "source": [
    "## Use this cell to create the \"main\" part of your program\n",
    "print('Welcome to ***NAME AND ID*** program')\n",
    "prev_options=[]\n",
    "valid_options = ['1','2','3','4','5']\n",
    "ans = True\n",
    "while ans:\n",
    "    print('Select and option')\n",
    "    ans = input('>> ')\n",
    "    if ans in valid_options:\n",
    "        list\n",
    "        if ans == '1':\n",
    "            prev_options.append(ans)\n",
    "            name = option1()\n",
    "            ans = True\n",
    "        elif ans == '2':\n",
    "            prev_options.append(ans)\n",
    "            if '1' in prev_options:\n",
    "                option2(name)\n",
    "                ans = True\n",
    "            else:\n",
    "                prev_options.append('1')\n",
    "                option3()\n",
    "        elif ans == '3':\n",
    "            prev_options.append(ans)\n",
    "            array = option3()\n",
    "            ans = True\n",
    "        elif ans == '4':\n",
    "            prev_options.append(ans)\n",
    "            if '3' in prev_options:\n",
    "                option4(array)\n",
    "                ans = True\n",
    "            else:\n",
    "                prev_options.append('1')\n",
    "                option3()    \n",
    "        elif ans == '5':\n",
    "            sys.exit()\n",
    "    else:\n",
    "        print('Error, try again')\n",
    "        ans = True\n",
    "    "
   ]
  },
  {
   "cell_type": "markdown",
   "metadata": {},
   "source": [
    "## Questions\n",
    "Please answer the following questions to appraise your level of engagement with the content of the course. Use the Markdown cell corresponding to each question to write your answers."
   ]
  },
  {
   "cell_type": "markdown",
   "metadata": {},
   "source": [
    "1. How would you ensure in your program that the user always inserts the right type of input?\n",
    "\n",
    "**ANSWER:** Students are expected to describe Python methods that verify the type of input before accepting it. One of the most common ones is the try/except conditional statement. Alternatively, students can also discuss some if conditional statements that compare the input against a dictionary or a predefined list of inputs."
   ]
  },
  {
   "cell_type": "markdown",
   "metadata": {},
   "source": [
    "2. Illustrate using an example how a numpy array can be used to handle data from your practice.\n",
    "\n",
    "**ANSWER:** Students are encouraged to bring some experience from their business background and describe cases where they have seen data that can be exported into a numpy array. Common examples include images, data streams and others. Moreover, a higher mark will be granted if students are capable to identify how matrix operations can be of use in such scenarios"
   ]
  },
  {
   "cell_type": "markdown",
   "metadata": {},
   "source": [
    "3. Instead of using numpy arrays, are there any other data structures available in Python which may be more appropriate to handle data obtained from the business analytics practice? If so, which one do you consider more suitable?\n",
    "\n",
    "**ANSWER:** Students can describe the use of dictionaries and panda dataframes, which are data structures which are more suitable to handle large amount of labelled/structured data."
   ]
  }
 ],
 "metadata": {
  "kernelspec": {
   "display_name": "Python 3",
   "language": "python",
   "name": "python3"
  },
  "language_info": {
   "codemirror_mode": {
    "name": "ipython",
    "version": 3
   },
   "file_extension": ".py",
   "mimetype": "text/x-python",
   "name": "python",
   "nbconvert_exporter": "python",
   "pygments_lexer": "ipython3",
   "version": "3.6.4"
  }
 },
 "nbformat": 4,
 "nbformat_minor": 2
}
