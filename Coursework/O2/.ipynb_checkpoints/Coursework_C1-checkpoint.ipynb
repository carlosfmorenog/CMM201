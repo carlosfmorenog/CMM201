{
 "cells": [
  {
   "cell_type": "markdown",
   "metadata": {},
   "source": [
    "# Coursework Component 1\n",
    "*Instructions*: In this coursework, you will show your domain of the basic Python skills required for business analytics. You will use elemental concepts such as data structures, conditional statements and functions, amongst others. To do so, you will use the following Jupyter Notebook as a template."
   ]
  },
  {
   "cell_type": "markdown",
   "metadata": {},
   "source": [
    "## Creating a basic Python program\n",
    "You have to create a basic program that enables the user **FIVE** options:\n",
    "1. Input your name and id number. Then, the program has to print a message greeting you with your name and the addition of the digits that compose your id number.\n",
    "2. Count and print the number of letter $a$ in your name.\n",
    "3. Create a numpy array with $n$ rows, $m$ columns and random numbers (from 1 to 10) as the content. The values $n$ and $m$ are defined by the user, and the value of $n$ can't be larger than $m$. Otherwise, the user has to try again. Once the numpy array is created, print it for the user.\n",
    "4. Print the value of a specific position of the numpy array. This function has to check that both the values of the row and the column where the user wants to get the value are valid (this means that the row and column to query have to be equal or smaller than the shape of the numpy array). Otherwise, the user has to try again.\n",
    "\n",
    "5. Exit the program."
   ]
  },
  {
   "cell_type": "markdown",
   "metadata": {},
   "source": [
    "## Additional considerations\n",
    "\n",
    "You need to consider the following aspects for the design of your program:\n",
    "\n",
    "1. If a non-available option is inserted by the user (for example, a 0), then your program must print an *Error* message and request for a new try until the user successfully requests a valid option.\n",
    "2. Option \"2\" cannot be selected if option \"1\" has not been selected first. However, the program must NOT stop or crash, but rather offer the user option 1 instead.\n",
    "3. Option \"4\" cannot be selected if option \"3\" has not been selected first. However, the program must NOT stop or crash, but rather offer the user option 3 instead."
   ]
  },
  {
   "cell_type": "markdown",
   "metadata": {},
   "source": [
    "## Submission Instructions\n",
    "\n",
    "* Once that you have finished your program, run all cells and run your program, executing from option 0 to option 5 (**NOTE**: option 0 is purposely included to test if your program can handle incorrect inputs). \n",
    "* Then, without clearing the kernel, generate a html **OR** pdf file from the jupyter notebook. \n",
    "* Name both the jupyter notebook and the html/pdf file with your id number and submit them to the corresponding Moodle's dropbox before **7th November, 2019**."
   ]
  },
  {
   "cell_type": "code",
   "execution_count": null,
   "metadata": {},
   "outputs": [],
   "source": [
    "## Use this cell to import all necessary packages\n"
   ]
  },
  {
   "cell_type": "code",
   "execution_count": null,
   "metadata": {},
   "outputs": [],
   "source": [
    "## Use this cell to define the function corresponding to OPTION 1\n",
    "\n",
    "def option1():\n",
    "    '''With this function you input name and id number'''\n",
    "    return name"
   ]
  },
  {
   "cell_type": "code",
   "execution_count": null,
   "metadata": {},
   "outputs": [],
   "source": [
    "## Use this cell to define the function corresponding to OPTION 2\n",
    "\n",
    "def option2(name):\n",
    "    '''This function prints the number of \"a's\" in the name.'''\n",
    "    return"
   ]
  },
  {
   "cell_type": "code",
   "execution_count": null,
   "metadata": {},
   "outputs": [],
   "source": [
    "## Use this cell to define the function corresponding to OPTION 3\n",
    "\n",
    "def option3():\n",
    "    '''This function allows to create a nxm numpy array with random values'''\n",
    "    return array"
   ]
  },
  {
   "cell_type": "code",
   "execution_count": null,
   "metadata": {},
   "outputs": [],
   "source": [
    "## Use this cell to define the function corresponding to OPTION 4\n",
    "\n",
    "def option4(array):\n",
    "    '''This function allows to search and print one register of the numpy array created in option 3'''\n",
    "    return"
   ]
  },
  {
   "cell_type": "code",
   "execution_count": null,
   "metadata": {},
   "outputs": [],
   "source": [
    "## Use this cell to create the \"main\" part of your program\n",
    "print('Welcome to ***NAME AND ID*** program')"
   ]
  },
  {
   "cell_type": "markdown",
   "metadata": {},
   "source": [
    "## Questions\n",
    "Please answer the following questions to appraise your level of engagement with the content of the course. Use the Markdown cell corresponding to each question to write your answers."
   ]
  },
  {
   "cell_type": "markdown",
   "metadata": {},
   "source": [
    "1. How would you ensure in your program that the user always inserts the right type of input?\n",
    "\n",
    "**ANSWER:**"
   ]
  },
  {
   "cell_type": "markdown",
   "metadata": {},
   "source": [
    "2. Illustrate using an example how a numpy array can be used to handle data from your practice.\n",
    "\n",
    "**ANSWER:**"
   ]
  },
  {
   "cell_type": "markdown",
   "metadata": {},
   "source": [
    "3. Instead of using numpy arrays, are there any other data structures available in Python which may be more appropriate to handle data obtained from the business analytics practice? If so, which one do you consider more suitable?\n",
    "\n",
    "**ANSWER:**"
   ]
  }
 ],
 "metadata": {
  "kernelspec": {
   "display_name": "Python 3",
   "language": "python",
   "name": "python3"
  },
  "language_info": {
   "codemirror_mode": {
    "name": "ipython",
    "version": 3
   },
   "file_extension": ".py",
   "mimetype": "text/x-python",
   "name": "python",
   "nbconvert_exporter": "python",
   "pygments_lexer": "ipython3",
   "version": "3.6.4"
  }
 },
 "nbformat": 4,
 "nbformat_minor": 2
}
