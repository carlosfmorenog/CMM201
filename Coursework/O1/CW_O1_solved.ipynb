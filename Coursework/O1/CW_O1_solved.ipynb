{
 "cells": [
  {
   "cell_type": "markdown",
   "metadata": {},
   "source": [
    "# Coursework Output 1\n",
    "*Instructions*: In this coursework, you will show your domain of the basic Python skills required for business analytics. You will use elemental concepts such as data structures, conditional statements and functions, amongst others. To do so, you will use the following Jupyter Notebook as a template."
   ]
  },
  {
   "cell_type": "markdown",
   "metadata": {},
   "source": [
    "## Creating a Basic Python Program\n",
    "You have to create a basic program that enables the user **FIVE** options:\n",
    "1. Input your name and id number. Then, the program has to print a message greeting you with your name and the addition of the digits that compose your id number.\n",
    "2. Count and print the number of letter $a$ in your name.\n",
    "3. Create a list called *students* where the user can store any number of names (you have to guarantee that no name is entered twice). Then, create a list called *marks* where the user can store an equal amount of numbers between 0 and 10 (decimals marks must be allowed).\n",
    "4. The user specifies a name, and the program has to check if that student exists (i.e. if it is in the *students* list). If true, the program prints the mark corresponding to the student (i.e. the number in the *marks* list located in the same position as the student's name in the *students* list). Else, the program prints an error message. If the user tries a name three consecutive times and is unsuccessful, then the function is terminated and the program returns to the main menu.\n",
    "5. Exit the program."
   ]
  },
  {
   "cell_type": "markdown",
   "metadata": {},
   "source": [
    "## Additional Considerations\n",
    "\n",
    "You need to consider the following aspects for the design of your program:\n",
    "\n",
    "1. If a non-available option is inserted by the user (for example, a 0), then your program must print an *Error* message and request for a new try until the user successfully requests a valid option.\n",
    "2. Option \"2\" cannot be selected if option \"1\" has not been selected first. However, the program must NOT stop or crash, but rather remind the user to execute option 1 instead.\n",
    "3. Option \"4\" cannot be selected if option \"3\" has not been selected first. However, the program must NOT stop or crash, but rather remind the user to execute option 3 instead."
   ]
  },
  {
   "cell_type": "markdown",
   "metadata": {},
   "source": [
    "## Submission Instructions\n",
    "\n",
    "* Once that you have finished your program, run all cells and execute your program, inputing options in the following order: 0-2-1-2-4-3-4(with three missed attempts)-4-5.\n",
    "    * **NOTE**: option 0 is purposely included to test if your program can handle incorrect inputs. \n",
    "* Then, without clearing the kernel, generate a html **OR** pdf file from the jupyter notebook. \n",
    "* Name both the jupyter notebook and the html/pdf file with your id number and submit them to the corresponding Moodle's dropbox before **7th November, 2019**."
   ]
  },
  {
   "cell_type": "code",
   "execution_count": 1,
   "metadata": {},
   "outputs": [],
   "source": [
    "## Use this cell to define the function corresponding to OPTION 1\n",
    "\n",
    "def option1():\n",
    "    '''With this function you input name and id number.'''\n",
    "    print('Write your name')\n",
    "    name = input('>> ')\n",
    "    print('Write your id number')\n",
    "    idnumber  = input('>> ')\n",
    "    sumid = 0\n",
    "    for i in idnumber:\n",
    "        sumid = sumid + int(i)\n",
    "    print('Hi '+name+', the sum of the digits of your id is: ', sumid)\n",
    "    return name"
   ]
  },
  {
   "cell_type": "code",
   "execution_count": 2,
   "metadata": {},
   "outputs": [],
   "source": [
    "## Use this cell to define the function corresponding to OPTION 2\n",
    "\n",
    "def option2(name):\n",
    "    '''This function prints the number of \"a's\" in the name.'''\n",
    "    print('The number of letter \"a\" in your name is: ', name.count(\"a\"))\n",
    "    return"
   ]
  },
  {
   "cell_type": "code",
   "execution_count": 3,
   "metadata": {},
   "outputs": [],
   "source": [
    "## Use this cell to define the function corresponding to OPTION 3\n",
    "\n",
    "def option3():\n",
    "    '''This function allows the user to create the students and marks lists.'''\n",
    "    students = []\n",
    "    marks = []\n",
    "    print('Indicate the number of students/marks that you want to include:')\n",
    "    size = input()\n",
    "    for i in range(int(size)):\n",
    "        ans2 = True\n",
    "        while ans2:\n",
    "            print('Please enter a name:')\n",
    "            name = input()\n",
    "            if name not in students:\n",
    "                students.append(name)\n",
    "                ans2 = False\n",
    "            else:\n",
    "                print('Name already in use. Please try again.')\n",
    "    for i in range(int(size)):\n",
    "        ans2 = True\n",
    "        while ans2:\n",
    "            print('Please enter the mark for '+students[i]+' (between 0 and 10):')\n",
    "            mark = float(input())\n",
    "            if 0<=mark<=10:\n",
    "                marks.append(mark)\n",
    "                ans2 = False\n",
    "            else:\n",
    "                print('Invalid mark. Please try again.')\n",
    "    return students, marks"
   ]
  },
  {
   "cell_type": "code",
   "execution_count": 4,
   "metadata": {},
   "outputs": [],
   "source": [
    "## Use this cell to define the function corresponding to OPTION 4\n",
    "\n",
    "def option4(students, marks):\n",
    "    '''This function allows to search and print the mark of a student.'''\n",
    "    tries = 0\n",
    "    while tries < 3:\n",
    "        print(\"Please enter a student's name\")\n",
    "        name = input()\n",
    "        if name in students:\n",
    "            print('The mark of '+name+' is '+str(marks[students.index(name)]))\n",
    "            tries = 3\n",
    "        else:\n",
    "            tries+=1\n",
    "            if tries<3:\n",
    "                print('Name not found. Please try again.')\n",
    "            else:\n",
    "                print('Name not found for the third time. Exiting the function.')          \n",
    "    return"
   ]
  },
  {
   "cell_type": "code",
   "execution_count": 5,
   "metadata": {},
   "outputs": [
    {
     "name": "stdout",
     "output_type": "stream",
     "text": [
      "Welcome to Carlos Moreno-Garcia 1234567 program.\n",
      "Please select and option:\n",
      ">> 0\n",
      "Invalid option, try again!\n",
      "Please select and option:\n",
      ">> 2\n",
      "Please execute option 1 first!\n",
      "Please select and option:\n",
      ">> 1\n",
      "Write your name\n",
      ">> Carlos\n",
      "Write your id number\n",
      ">> 1234567\n",
      "Hi Carlos, the sum of the digits of your id is:  28\n",
      "Please select and option:\n",
      ">> 2\n",
      "The number of letter \"a\" in your name is:  1\n",
      "Please select and option:\n",
      ">> 4\n",
      "Please execute option 3 first!\n",
      "Please select and option:\n",
      ">> 3\n",
      "Indicate the number of students/marks that you want to include:\n",
      "3\n",
      "Please enter a name:\n",
      "Alice\n",
      "Please enter a name:\n",
      "Bob\n",
      "Please enter a name:\n",
      "Bob\n",
      "Name already in use. Please try again.\n",
      "Please enter a name:\n",
      "Charlie\n",
      "Please enter the mark for Alice (between 0 and 10):\n",
      "11\n",
      "Invalid mark. Please try again.\n",
      "Please enter the mark for Alice (between 0 and 10):\n",
      "10\n",
      "Please enter the mark for Bob (between 0 and 10):\n",
      "9.9\n",
      "Please enter the mark for Charlie (between 0 and 10):\n",
      "8\n",
      "Please select and option:\n",
      ">> 4\n",
      "Please enter a student's name\n",
      "Dan\n",
      "Name not found. Please try again.\n",
      "Please enter a student's name\n",
      "Ernest\n",
      "Name not found. Please try again.\n",
      "Please enter a student's name\n",
      "Frank\n",
      "Name not found for the third time. Exiting the function.\n",
      "Please select and option:\n",
      ">> 4\n",
      "Please enter a student's name\n",
      "Bob\n",
      "The mark of Bob is 9.9\n",
      "Please select and option:\n",
      ">> 5\n",
      "Exiting the program!\n"
     ]
    }
   ],
   "source": [
    "## Use this cell to create the \"main\" part of your program\n",
    "print('Welcome to Carlos Moreno-Garcia 1234567 program.')\n",
    "prev_options=[]\n",
    "valid_options = ['1','2','3','4','5']\n",
    "ans = True\n",
    "while ans:\n",
    "    print('Please select and option:')\n",
    "    ans = input('>> ')\n",
    "    if ans in valid_options:\n",
    "        if ans == '1':\n",
    "            prev_options.append(ans)\n",
    "            name = option1()\n",
    "            ans = True\n",
    "        elif ans == '2':\n",
    "            prev_options.append(ans)\n",
    "            if '1' in prev_options:\n",
    "                option2(name)\n",
    "                ans = True\n",
    "            else:\n",
    "                print('Please execute option 1 first!')\n",
    "        elif ans == '3':\n",
    "            prev_options.append(ans)\n",
    "            students, marks = option3()\n",
    "            ans = True\n",
    "        elif ans == '4':\n",
    "            prev_options.append(ans)\n",
    "            if '3' in prev_options:\n",
    "                option4(students, marks)\n",
    "                ans = True\n",
    "            else:\n",
    "                print('Please execute option 3 first!')    \n",
    "        else:\n",
    "            print('Exiting the program!')\n",
    "            ans = False\n",
    "    else:\n",
    "        print('Invalid option, try again!')\n",
    "        ans = True\n",
    "    "
   ]
  },
  {
   "cell_type": "markdown",
   "metadata": {},
   "source": [
    "## Questions\n",
    "Please answer the following questions to appraise your level of engagement with the content of the course. Use the Markdown cell corresponding to each question to write your answers."
   ]
  },
  {
   "cell_type": "markdown",
   "metadata": {},
   "source": [
    "1. How would you ensure in your program that the user always inserts the right type of input?\n",
    "\n",
    "**ANSWER:** Students are expected to describe Python methods that verify the type of input before accepting it. One of the most common ones is the try/except conditional statement. Alternatively, students can also discuss some if conditional statements that compare the input against a dictionary or a predefined list of inputs."
   ]
  },
  {
   "cell_type": "markdown",
   "metadata": {},
   "source": [
    "2. In option 3 you had to create two lists, one for the students and one for the marks. Is there any other data structure in Python that would help you reduce the number of variables and that can facilitate the way to access the marks?.\n",
    "\n",
    "**ANSWER:** Students should research and provide examples such as the dictionary, which is designed to access a key based on an index and is much easier to handle compared to two lists. They can also mention numpy arrays or panda dataframes provided they explain how to work with them in this context."
   ]
  }
 ],
 "metadata": {
  "kernelspec": {
   "display_name": "Python 3",
   "language": "python",
   "name": "python3"
  },
  "language_info": {
   "codemirror_mode": {
    "name": "ipython",
    "version": 3
   },
   "file_extension": ".py",
   "mimetype": "text/x-python",
   "name": "python",
   "nbconvert_exporter": "python",
   "pygments_lexer": "ipython3",
   "version": "3.6.4"
  }
 },
 "nbformat": 4,
 "nbformat_minor": 2
}
