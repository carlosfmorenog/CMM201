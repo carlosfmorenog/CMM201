{
 "cells": [
  {
   "cell_type": "markdown",
   "metadata": {},
   "source": [
    "# Coursework Output 1\n",
    "*Instructions*: In this coursework, you will show your domain of the basic Python skills required for business analytics. You will use elemental concepts such as data structures, conditional statements and functions, amongst others. To do so, you will use the following Jupyter Notebook as a template."
   ]
  },
  {
   "cell_type": "markdown",
   "metadata": {},
   "source": [
    "## Creating a Basic Python Program\n",
    "You have to create a basic program that enables the user **FIVE** options:\n",
    "1. Input your name and id number. Then, the program has to print a message greeting you with your name and the addition of the digits that compose your id number.\n",
    "2. Count and print the number of letter $a$ in your name.\n",
    "3. Create a list called *students* where the user can store any number of names (you have to guarantee that no name is entered twice). Then, create a list called *marks* where the user can store an equal amount of numbers between 0 and 10 (decimals marks must be allowed).\n",
    "4. The user specifies a name, and the program has to check if that student exists (i.e. if it is in the *students* list). If true, the program prints the mark corresponding to the student (i.e. the number in the *marks* list located in the same position as the student's name in the *students* list). Else, the program prints an error message. If the user tries a name three consecutive times and is unsuccessful, then the function is terminated and the program returns to the main menu.\n",
    "5. Exit the program."
   ]
  },
  {
   "cell_type": "markdown",
   "metadata": {},
   "source": [
    "## Additional Considerations\n",
    "\n",
    "You need to consider the following aspects for the design of your program:\n",
    "\n",
    "1. If a non-available option is inserted by the user (for example, a 0), then your program must print an *Error* message and request for a new try until the user successfully requests a valid option.\n",
    "2. Option \"2\" cannot be selected if option \"1\" has not been selected first. However, the program must NOT stop or crash, but rather remind the user to execute option 1 instead.\n",
    "3. Option \"4\" cannot be selected if option \"3\" has not been selected first. However, the program must NOT stop or crash, but rather remind the user to execute option 3 instead."
   ]
  },
  {
   "cell_type": "markdown",
   "metadata": {},
   "source": [
    "## Submission Instructions\n",
    "\n",
    "* Once that you have finished your program, run all cells and execute your program, inputing options in the following order: 0-2-1-2-4-3-4(with three missed attempts)-4-5.\n",
    "    * **NOTE**: option 0 is purposely included to test if your program can handle incorrect inputs. \n",
    "* Then, without clearing the kernel, generate a html **OR** pdf file from the jupyter notebook. \n",
    "* Name both the jupyter notebook and the html/pdf file with your id number and submit them to the corresponding Moodle's dropbox before **7th November, 2019**."
   ]
  },
  {
   "cell_type": "code",
   "execution_count": 1,
   "metadata": {},
   "outputs": [],
   "source": [
    "## Use this cell to define the function corresponding to OPTION 1\n",
    "\n",
    "def option1():\n",
    "    ##'''With this function you input name and id number.'''\n",
    "    print ('Hello to my program')\n",
    "    print (\"Please enter your name\")\n",
    "    name = input()\n",
    "    print (\"please enter your ID\" )\n",
    "    sid = input()\n",
    "    sums = 0\n",
    "   \n",
    "    for i in sid:\n",
    "        sums += int(i)\n",
    "        \n",
    "    print(\"Sum of ID is\", sums)\n",
    "    return name,sums  \n"
   ]
  },
  {
   "cell_type": "code",
   "execution_count": 2,
   "metadata": {},
   "outputs": [],
   "source": [
    "## Use this cell to define the function corresponding to OPTION 2\n",
    "\n",
    "def option2(name):\n",
    "    '''This function prints the number of \"a's\" in the name.'''\n",
    "    ncount = name.count('a')\n",
    "    print(\"Count of 'a' is \" , ncount)\n",
    "    return ncount\n",
    "  "
   ]
  },
  {
   "cell_type": "code",
   "execution_count": 3,
   "metadata": {},
   "outputs": [],
   "source": [
    "## Use this cell to define the function corresponding to OPTION 3\n",
    "\n",
    "def option3():\n",
    "    '''This function allows the user to create the students and marks lists.'''\n",
    "    students=[]\n",
    "    marks=[]\n",
    "  \n",
    "\n",
    "    print('Please Enter number of students')\n",
    "    no = input(int)\n",
    "    x = 0\n",
    "    while int(x) < int(no):\n",
    "        print(\"Please enter name\")\n",
    "        sname = input()\n",
    "      \n",
    "        if sname in students:\n",
    "            print(\"Name already in the list please enter another name\")\n",
    "            continue\n",
    "        else:\n",
    "            students.append(sname)\n",
    "            x = x + 1  \n",
    "               \n",
    "            \n",
    "    for idx,val in enumerate(students):\n",
    "        print(\"Please enter marks for \"+val)\n",
    "        smarks = float(input())\n",
    "                                 \n",
    "        while 0<smarks>10:\n",
    "            print(\"Marks should be within 0-10\")\n",
    "            smarks = float(input())   \n",
    "        marks.append(smarks)             \n",
    "    return students, marks\n"
   ]
  },
  {
   "cell_type": "code",
   "execution_count": 4,
   "metadata": {},
   "outputs": [],
   "source": [
    "\n",
    "## Use this cell to define the function corresponding to OPTION 4\n",
    "\n",
    "def option4(students, marks):\n",
    "    '''This function allows to search and print the mark of a student.'''\n",
    "    x=1\n",
    "    while x<4:\n",
    "        print (\"Please enter student name\")\n",
    "        sname=input()\n",
    "        if sname in students:\n",
    "            print (\"Marks of student is\" , marks[students.index(sname)])\n",
    "            break\n",
    "        else:   \n",
    "            print(\"Student doesn't exists \",x,\" attempt\")\n",
    "            x=x+1\n",
    "            continue\n",
    "       \n",
    "    return\n",
    "\n"
   ]
  },
  {
   "cell_type": "code",
   "execution_count": null,
   "metadata": {},
   "outputs": [
    {
     "name": "stdout",
     "output_type": "stream",
     "text": [
      "Welcome to Sana Hayee AND ID** program.\n",
      "Welcome to my menu. Select an option (1,2,3,4,5):\n"
     ]
    }
   ],
   "source": [
    "## Use this cell to create the \"main\" part of your program\n",
    "print('Welcome to Sana Hayee AND ID** program.')\n",
    "\n",
    "options = []\n",
    "x = True\n",
    "\n",
    "while x:\n",
    "    print('Welcome to my menu. Select an option (1,2,3,4,5):')\n",
    "    x = input()\n",
    "    options.append(x)\n",
    "    \n",
    "    if x == '1':\n",
    "         (name, sums) = option1()\n",
    "    elif x == '2':\n",
    "        if '1' in options:\n",
    "            ncount =  option2(name)\n",
    "        else:\n",
    "            print('Please select option 1 before option 2')\n",
    "    elif x == '3':\n",
    "         (students, marks) = option3()\n",
    "    elif x == '4':\n",
    "        if '3' in options:\n",
    "            option4(students,marks)\n",
    "        else:\n",
    "            print('Please select option 3 before option 4')\n",
    "    elif x == '5':\n",
    "        break\n",
    "    else:\n",
    "        print('Wrong option. Please try again.')\n"
   ]
  },
  {
   "cell_type": "markdown",
   "metadata": {},
   "source": [
    "## Questions\n",
    "Please answer the following questions to appraise your level of engagement with the content of the course. Use the Markdown cell corresponding to each question to write your answers."
   ]
  },
  {
   "cell_type": "markdown",
   "metadata": {},
   "source": [
    "1. How would you ensure in your program that the user always inserts the right type of input?\n",
    "\n",
    "**ANSWER:**"
   ]
  },
  {
   "cell_type": "markdown",
   "metadata": {},
   "source": [
    "2. In option 3 you had to create two lists, one for the students and one for the marks. Is there any other data structure in Python that would help you reduce the number of variables and that can facilitate the way to access the marks?.\n",
    "\n",
    "**ANSWER:**"
   ]
  }
 ],
 "metadata": {
  "kernelspec": {
   "display_name": "Python 3",
   "language": "python",
   "name": "python3"
  },
  "language_info": {
   "codemirror_mode": {
    "name": "ipython",
    "version": 3
   },
   "file_extension": ".py",
   "mimetype": "text/x-python",
   "name": "python",
   "nbconvert_exporter": "python",
   "pygments_lexer": "ipython3",
   "version": "3.6.4"
  }
 },
 "nbformat": 4,
 "nbformat_minor": 2
}
