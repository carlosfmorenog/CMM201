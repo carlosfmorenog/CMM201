{
 "cells": [
  {
   "cell_type": "markdown",
   "metadata": {},
   "source": [
    "# Coursework Output 1\n",
    "*Instructions*: In this coursework, you will show your domain of the basic Python skills required for business analytics. You will use elemental concepts such as data structures, conditional statements and functions, amongst others. To do so, you will use the following Jupyter Notebook as a template."
   ]
  },
  {
   "cell_type": "markdown",
   "metadata": {},
   "source": [
    "## Creating a Basic Python Program\n",
    "You have to create a basic program that enables the user **FIVE** options:\n",
    "1. Input your name and id number. Then, the program has to print a message greeting you with your name and the addition of the digits that compose your id number.\n",
    "2. Count and print the number of letter $a$ in your name.\n",
    "3. Create a list called *students* where the user can store any number of names (you have to guarantee that no name is entered twice). Then, create a list called *marks* where the user can store an equal amount of numbers between 0 and 10 (decimals marks must be allowed).\n",
    "4. The user specifies a name, and the program has to check if that student exists (i.e. if it is in the *students* list). If true, the program prints the mark corresponding to the student (i.e. the number in the *marks* list located in the same position as the student's name in the *students* list). Else, the program prints an error message. If the user tries a name three consecutive times and is unsuccessful, then the function is terminated and the program returns to the main menu.\n",
    "5. Exit the program."
   ]
  },
  {
   "cell_type": "markdown",
   "metadata": {},
   "source": [
    "## Additional Considerations\n",
    "\n",
    "You need to consider the following aspects for the design of your program:\n",
    "\n",
    "1. If a non-available option is inserted by the user (for example, a 0), then your program must print an *Error* message and request for a new try until the user successfully requests a valid option.\n",
    "2. Option \"2\" cannot be selected if option \"1\" has not been selected first. However, the program must NOT stop or crash, but rather remind the user to execute option 1 instead.\n",
    "3. Option \"4\" cannot be selected if option \"3\" has not been selected first. However, the program must NOT stop or crash, but rather remind the user to execute option 3 instead."
   ]
  },
  {
   "cell_type": "markdown",
   "metadata": {},
   "source": [
    "## Submission Instructions\n",
    "\n",
    "* Once that you have finished your program, run all cells and execute your program, inputing options in the following order: 0-2-1-2-4-3-4(with three missed attempts)-4-5.\n",
    "    * **NOTE**: option 0 is purposely included to test if your program can handle incorrect inputs. \n",
    "* Then, without clearing the kernel, generate a html **OR** pdf file from the jupyter notebook. \n",
    "* Name both the jupyter notebook and the html/pdf file with your id number and submit them to the corresponding Moodle's dropbox before **7th November, 2019**."
   ]
  },
  {
   "cell_type": "code",
   "execution_count": 1,
   "metadata": {},
   "outputs": [],
   "source": [
    "## Use this cell to define the function corresponding to OPTION 1\n",
    "\n",
    "def option1():\n",
    "    '''With this function you input name and id number.'''\n",
    "    nameflag = False\n",
    "    while nameflag == False:\n",
    "        print(\"hello, what is your name?\")\n",
    "        name = input()\n",
    "        nameflag = checkname(name)   \n",
    "    \n",
    "    try:\n",
    "        print (\"what is your ID number?\")\n",
    "        idno = input()\n",
    "        sumofid = 0\n",
    "        for character in idno:\n",
    "            sumofid = sumofid + int(character)\n",
    "        print(\"Hello \",name, \"the digits in your ID add up to\",sumofid)\n",
    "    except:\n",
    "        print(\"Hello\",name, \"I am unable to add up the digits in your ID number.  \\nIf you choose this option again they must be entered as integers\")\n",
    "    return name"
   ]
  },
  {
   "cell_type": "code",
   "execution_count": 2,
   "metadata": {},
   "outputs": [],
   "source": [
    "## Use this cell to define the function corresponding to OPTION 2\n",
    "\n",
    "def option2(name):\n",
    "    '''This function prints the number of \"a's\" in the name.'''\n",
    "    name = name.lower()\n",
    "    numa = name.count(\"a\")\n",
    "    print('The number of letter \"a\" in your name is', numa)\n",
    "    return"
   ]
  },
  {
   "cell_type": "code",
   "execution_count": 3,
   "metadata": {},
   "outputs": [],
   "source": [
    "def checkname(name):\n",
    "    '''This function checks the user entered name string to check it is not a number '''\n",
    "    try: \n",
    "        namecheck = float(name)\n",
    "        print(\"Invalid name\")\n",
    "        flag = False\n",
    "    except:\n",
    "        flag = True  \n",
    "    return flag"
   ]
  },
  {
   "cell_type": "code",
   "execution_count": 4,
   "metadata": {},
   "outputs": [],
   "source": [
    "## Use this cell to define the function corresponding to OPTION 3\n",
    "\n",
    "def option3():\n",
    "    '''This function allows the user to create the students and marks lists.'''\n",
    "    y = 0\n",
    "    students = []\n",
    "    marks = []\n",
    "    nameflag = False\n",
    "    numberstudentsflag = False\n",
    "    marksflag = False\n",
    "    \n",
    "    while numberstudentsflag == False:\n",
    "        try:\n",
    "            print(\"Please enter the number of students / marks you want to enter\")\n",
    "            numberstudents = int(input())\n",
    "            numberstudentsflag = True\n",
    "        except:\n",
    "            print(\"invalid entry\")\n",
    "            \n",
    "    \n",
    "    while y < numberstudents:\n",
    "        while nameflag == False:\n",
    "            print(\"enter a student's name\")\n",
    "            text = input()\n",
    "            nameflag = checkname(text)\n",
    "        \n",
    "        if text in students:\n",
    "            print(\"that student has already been entered\")\n",
    "            nameflag = False\n",
    "                \n",
    "        else:\n",
    "            students.append(text)\n",
    "            y = y +1   \n",
    "            nameflag = False\n",
    "               \n",
    "    y = 0    \n",
    "    while y < numberstudents:\n",
    "        marksflag = False\n",
    "        while marksflag == False:\n",
    "            try:\n",
    "                print(\"Enter the mark for \", students[y], \"(between 0 and 10)\")\n",
    "                tempmark = float(input())\n",
    "                marksflag= True\n",
    "            except:\n",
    "                print(\"invalid number\")\n",
    "        if tempmark <= 10 and tempmark >= 0:\n",
    "            \n",
    "            marks.append(tempmark)\n",
    "            y = y +1\n",
    "        else:\n",
    "            print(\" the mark is out of range\")    \n",
    "    \n",
    "    return students, marks"
   ]
  },
  {
   "cell_type": "code",
   "execution_count": 5,
   "metadata": {},
   "outputs": [],
   "source": [
    "## Use this cell to define the function corresponding to OPTION 4\n",
    "\n",
    "def option4(students, marks):\n",
    "    '''This function allows to search and print the mark of a student.''' \n",
    "    counter = 0\n",
    "    \n",
    "    while counter <3:\n",
    "        print(\"please enter a student's name\")\n",
    "        name = input()\n",
    "        if name in students:        \n",
    "            positioninlist = students.index(name)\n",
    "            print(\"the mark for\",students[positioninlist],\"is\", marks[positioninlist])\n",
    "            counter =3   \n",
    "        else:\n",
    "            if counter <3:  \n",
    "                 \n",
    "                if counter <2:\n",
    "                    print(\"student not found. Please try again.\")\n",
    "                    counter = counter +1\n",
    "                else:\n",
    "                    print(\"student not found for the third time.  Exiting the function\")\n",
    "                    counter = counter +1\n",
    "    return"
   ]
  },
  {
   "cell_type": "code",
   "execution_count": 6,
   "metadata": {},
   "outputs": [
    {
     "name": "stdout",
     "output_type": "stream",
     "text": [
      "Welcome to **Shona Hutchinson 9807717** program.\n",
      "which option would you like? \n",
      "Please enter 1 to 5\n",
      "3\n",
      "Please enter the number of students / marks you want to enter\n",
      "3\n",
      "enter a student's name\n",
      "a\n",
      "enter a student's name\n",
      "b\n",
      "enter a student's name\n",
      "b\n",
      "that student has already been entered\n",
      "enter a student's name\n",
      "B\n",
      "Enter the mark for  a (between 0 and 10)\n",
      "0\n",
      "Enter the mark for  b (between 0 and 10)\n",
      "IHLIHLH\n",
      "invalid number\n",
      "Enter the mark for  b (between 0 and 10)\n",
      "9\n",
      "Enter the mark for  B (between 0 and 10)\n",
      "9\n",
      "which option would you like? \n",
      "Please enter 1 to 5\n",
      "90\n",
      "invalid option\n",
      "which option would you like? \n",
      "Please enter 1 to 5\n",
      "5\n",
      "exiting program\n"
     ]
    }
   ],
   "source": [
    "## Use this cell to create the \"main\" part of your program\n",
    "print('Welcome to **Shona Hutchinson 9807717** program.')\n",
    "\n",
    "option = True\n",
    "opt1Flag = False\n",
    "opt3Flag = False\n",
    "\n",
    "while option:\n",
    "    print(\"which option would you like? \\nPlease enter 1 to 5\")\n",
    "    option = input()\n",
    "    if option == '1':\n",
    "        name = option1()\n",
    "        opt1Flag = True\n",
    "        \n",
    "    elif option == '2':\n",
    "        if opt1Flag:\n",
    "            option2(name)\n",
    "        else:\n",
    "            print(\"you can't choose option 2 before selecting option 1 1st\")\n",
    "    elif option =='3':\n",
    "        students,marks = option3()\n",
    "        opt3Flag = True\n",
    "        \n",
    "    elif option == '4':\n",
    "        if opt3Flag:\n",
    "            option4(students,marks)\n",
    "        else:\n",
    "            print(\"you can not choose option 4 before choosing option 3\")\n",
    "    \n",
    "    elif option == '5':\n",
    "        print(\"exiting program\")\n",
    "        option = False\n",
    "        \n",
    "    else:\n",
    "        print(\"invalid option\")"
   ]
  },
  {
   "cell_type": "markdown",
   "metadata": {},
   "source": [
    "## Questions\n",
    "Please answer the following questions to appraise your level of engagement with the content of the course. Use the Markdown cell corresponding to each question to write your answers."
   ]
  },
  {
   "cell_type": "markdown",
   "metadata": {},
   "source": [
    "1. How would you ensure in your program that the user always inserts the right type of input?\n",
    "\n",
    "**ANSWER:** \n",
    "As the user input is a string you can can check anything entered is the correct data type by trying to convert it to the correct data type with the help of a try function so that the program won't break if say the input string can't be converted to an int etc. This has been added to option 1 so that the program won't break in the event of someone entering \"abcd\" instead of their ID number\n",
    "\n",
    "You can also do this by trying to convert to a wrong data type.  For example if the user is asked to enter a name.  We are obviously expecting the user to enter a name which would be a string but 123456 can also be a string.  In this case you could try to convert the string into a float.  If you are successful in converting this into a float then the input is not correct if you were expecting a name or a comment. This has been done in the checkname function that option1 and option3 functions make use of.\n",
    "When creating menus having an else option at the end of any input choices to catch any invalid options will stop the program breaking.  \n"
   ]
  },
  {
   "cell_type": "markdown",
   "metadata": {},
   "source": [
    "2. In option 3 you had to create two lists, one for the students and one for the marks. Is there any other data structure in Python that would help you reduce the number of variables and that can facilitate the way to access the marks?.\n",
    "\n",
    "**ANSWER:** The names and marks of the students could be stored in a numpy array of shape (n,2) where n is the number of students. The student names could get stored in the first column and the corresponding marks in the 2nd columns.  An basic example of this is in the cell below."
   ]
  },
  {
   "cell_type": "code",
   "execution_count": 8,
   "metadata": {},
   "outputs": [
    {
     "name": "stdout",
     "output_type": "stream",
     "text": [
      "please enter the number of students\n",
      "3\n",
      "enter a student's name\n",
      "A\n",
      "enter the mark for A\n",
      "10\n",
      "enter a student's name\n",
      "B\n",
      "enter the mark for B\n",
      "9\n",
      "enter a student's name\n",
      "C\n",
      "enter the mark for C\n",
      "8\n",
      "[['A' 10.0]\n",
      " ['B' 9.0]\n",
      " ['C' 8.0]]\n"
     ]
    }
   ],
   "source": [
    "## Example of using numpy array to store the students' names and marks\n",
    "\n",
    "import numpy as np\n",
    "print(\"please enter the number of students\")\n",
    "numberstudents = int(input())\n",
    "\n",
    "marksarray=np.zeros((numberstudents,2))\n",
    "marksarray = marksarray.astype('object')\n",
    "\n",
    "for i in range(0,numberstudents):\n",
    "    print(\"enter a student's name\")\n",
    "    text = input()\n",
    "    marksarray[i,0] = text\n",
    "    print(\"enter the mark for\", text)\n",
    "    mark= float(input())\n",
    "    \n",
    "    marksarray[i,1] = mark\n",
    "    \n",
    "print (marksarray)\n",
    "    \n"
   ]
  },
  {
   "cell_type": "code",
   "execution_count": 9,
   "metadata": {},
   "outputs": [],
   "source": [
    "students = {'A':10,'B':9}"
   ]
  },
  {
   "cell_type": "code",
   "execution_count": 10,
   "metadata": {},
   "outputs": [
    {
     "data": {
      "text/plain": [
       "{'A': 10, 'B': 9}"
      ]
     },
     "execution_count": 10,
     "metadata": {},
     "output_type": "execute_result"
    }
   ],
   "source": [
    "students"
   ]
  },
  {
   "cell_type": "code",
   "execution_count": 11,
   "metadata": {},
   "outputs": [
    {
     "data": {
      "text/plain": [
       "10"
      ]
     },
     "execution_count": 11,
     "metadata": {},
     "output_type": "execute_result"
    }
   ],
   "source": [
    "students['A']"
   ]
  },
  {
   "cell_type": "code",
   "execution_count": 12,
   "metadata": {},
   "outputs": [
    {
     "data": {
      "text/plain": [
       "9"
      ]
     },
     "execution_count": 12,
     "metadata": {},
     "output_type": "execute_result"
    }
   ],
   "source": [
    "students['B']"
   ]
  },
  {
   "cell_type": "code",
   "execution_count": null,
   "metadata": {},
   "outputs": [],
   "source": []
  }
 ],
 "metadata": {
  "kernelspec": {
   "display_name": "Python 3",
   "language": "python",
   "name": "python3"
  },
  "language_info": {
   "codemirror_mode": {
    "name": "ipython",
    "version": 3
   },
   "file_extension": ".py",
   "mimetype": "text/x-python",
   "name": "python",
   "nbconvert_exporter": "python",
   "pygments_lexer": "ipython3",
   "version": "3.6.4"
  }
 },
 "nbformat": 4,
 "nbformat_minor": 2
}
