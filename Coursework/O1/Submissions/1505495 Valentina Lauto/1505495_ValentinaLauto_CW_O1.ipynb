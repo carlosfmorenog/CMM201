{
 "cells": [
  {
   "cell_type": "markdown",
   "metadata": {},
   "source": [
    "# Coursework Output 1\n",
    "*Instructions*: In this coursework, you will show your domain of the basic Python skills required for business analytics. You will use elemental concepts such as data structures, conditional statements and functions, amongst others. To do so, you will use the following Jupyter Notebook as a template."
   ]
  },
  {
   "cell_type": "markdown",
   "metadata": {},
   "source": [
    "## Creating a Basic Python Program\n",
    "You have to create a basic program that enables the user **FIVE** options:\n",
    "1. Input your name and id number. Then, the program has to print a message greeting you with your name and the addition of the digits that compose your id number.\n",
    "2. Count and print the number of letter $a$ in your name.\n",
    "3. Create a list called *students* where the user can store any number of names (you have to guarantee that no name is entered twice). Then, create a list called *marks* where the user can store an equal amount of numbers between 0 and 10 (decimals marks must be allowed).\n",
    "4. The user specifies a name, and the program has to check if that student exists (i.e. if it is in the *students* list). If true, the program prints the mark corresponding to the student (i.e. the number in the *marks* list located in the same position as the student's name in the *students* list). Else, the program prints an error message. If the user tries a name three consecutive times and is unsuccessful, then the function is terminated and the program returns to the main menu.\n",
    "5. Exit the program."
   ]
  },
  {
   "cell_type": "markdown",
   "metadata": {},
   "source": [
    "## Additional Considerations\n",
    "\n",
    "You need to consider the following aspects for the design of your program:\n",
    "\n",
    "1. If a non-available option is inserted by the user (for example, a 0), then your program must print an *Error* message and request for a new try until the user successfully requests a valid option.\n",
    "2. Option \"2\" cannot be selected if option \"1\" has not been selected first. However, the program must NOT stop or crash, but rather remind the user to execute option 1 instead.\n",
    "3. Option \"4\" cannot be selected if option \"3\" has not been selected first. However, the program must NOT stop or crash, but rather remind the user to execute option 3 instead."
   ]
  },
  {
   "cell_type": "markdown",
   "metadata": {},
   "source": [
    "## Submission Instructions\n",
    "\n",
    "* Once that you have finished your program, run all cells and execute your program, inputing options in the following order: 0-2-1-2-4-3-4(with three missed attempts)-4-5.\n",
    "    * **NOTE**: option 0 is purposely included to test if your program can handle incorrect inputs. \n",
    "* Then, without clearing the kernel, generate a html **OR** pdf file from the jupyter notebook. \n",
    "* Name both the jupyter notebook and the html/pdf file with your id number and submit them to the corresponding Moodle's dropbox before **7th November, 2019**."
   ]
  },
  {
   "cell_type": "code",
   "execution_count": 1,
   "metadata": {},
   "outputs": [],
   "source": [
    "## Use this cell to define the function corresponding to OPTION 1\n",
    "\n",
    "def option1():\n",
    "    '''With this function you input id number.'''\n",
    "    print ('''Hi''',name.capitalize(),''', what's your student ID number?''' )\n",
    "    while True:\n",
    "        try:\n",
    "            number=input()\n",
    "            print ('''Hi''',name.capitalize(),'''the sum of the digits of your id is''',sum(map(int,str(number))))\n",
    "        except ValueError:\n",
    "            print(\"Sorry, I didn't understand that, please try again\")\n",
    "            #try again: return to the start of the loop\n",
    "            continue\n",
    "        else:\n",
    "        #exit the loop.\n",
    "             break\n",
    "    return name, number \n"
   ]
  },
  {
   "cell_type": "code",
   "execution_count": 2,
   "metadata": {},
   "outputs": [],
   "source": [
    "## Use this cell to define the function corresponding to OPTION 2\n",
    "def option2():\n",
    "    '''This function prints the number of \"a's\" in the name.'''\n",
    "    count = name.count('a')\n",
    "    print(name.capitalize(),'''the number of a's in your name is''', count)\n",
    "    return count"
   ]
  },
  {
   "cell_type": "code",
   "execution_count": 3,
   "metadata": {},
   "outputs": [],
   "source": [
    "#Use this cell to define the function corresponding to OPTION 3\n",
    "def option3():\n",
    "    '''This function allows the user to create the students and marks lists.'''\n",
    "    stud_name=True \n",
    "    while True:\n",
    "        try:\n",
    "            n = int(input('Indicate the number of students/marks that you want to include:'))\n",
    "        except ValueError:\n",
    "            print(\"Sorry, I didn't understand that, please try again\")\n",
    "            #try again: return to the start of the loop\n",
    "            continue\n",
    "        else:\n",
    "            #exit the loop.\n",
    "            break\n",
    "    for i in range(0, n):\n",
    "        while stud_name:\n",
    "            stud_name = input ('Please, enter a name:' )\n",
    "            if not stud_name in all_students:\n",
    "                all_students.append(stud_name)    \n",
    "                break\n",
    "            else: \n",
    "                print('Name already in use please, try again')\n",
    "    for i in all_students:\n",
    "        mark=True\n",
    "        while mark:\n",
    "            while True:\n",
    "                try:\n",
    "                    mark =float(input ('Please enter the mark for '+ all_students [ len( all_marks)])+\"\\n\")\n",
    "                except ValueError:\n",
    "                    print(\"Sorry, I didn't understand that, please try again\")\n",
    "                    #try again: return to the start of the loop\n",
    "                    continue\n",
    "                else:\n",
    "                    #exit the loop.\n",
    "                    break\n",
    "            if mark>-0 and mark <=10:\n",
    "                all_marks.append(mark)\n",
    "                mark=False\n",
    "                break\n",
    "            else:\n",
    "                print(input(' Sorry give a mark from 0 to 10  '))\n",
    "    res = \"\\n\".join(\"{} {}\".format(x, y) for x, y in zip(all_students, all_marks)) \n",
    "    print(res)\n",
    "    return res,all_marks,all_students "
   ]
  },
  {
   "cell_type": "code",
   "execution_count": 4,
   "metadata": {},
   "outputs": [],
   "source": [
    "#Use this cell to define the function corresponding to OPTION 3\n",
    "def option4():\n",
    "    '''This function allows to search and print the mark of a student.'''\n",
    "    print('''please enter a student's name''')\n",
    "    count=0 \n",
    "    while count <3:\n",
    "        search = input() #name\n",
    "        if search in all_students:\n",
    "            y = all_students.index(search)\n",
    "            print('''The mark of '''+  search  + ''' is '''+    str ( all_marks[ y]))\n",
    "            break\n",
    "        else: \n",
    "            print('Name does not exist, try again.')\n",
    "            count += 1\n",
    "    return"
   ]
  },
  {
   "cell_type": "code",
   "execution_count": null,
   "metadata": {},
   "outputs": [],
   "source": [
    "## Use this cell to create the \"main\" part of your program\n",
    "print('Welcome to Valentina Lauto 1505495 program') \n",
    "all_students = []\n",
    "all_marks= []\n",
    "options = []\n",
    "x = True\n",
    "while x:\n",
    "    print('Welcome to my menu. Select an option (1 to 5):')\n",
    "    x = input()\n",
    "    options.append(x)\n",
    "    if x == '1':\n",
    "        print('Please, enter your name')\n",
    "        name= input()\n",
    "        option1()\n",
    "    elif x == '2':\n",
    "        if '1' in options:\n",
    "            option2()\n",
    "        else:\n",
    "            print('Select option 1 first.')\n",
    "    elif x == '3': \n",
    "        option3()\n",
    "    elif x == '4':\n",
    "        if '3' in options:\n",
    "            option4()\n",
    "        else:\n",
    "            print('Select option 3 first.')\n",
    "    elif x == '5':\n",
    "        print('Exiting the program')\n",
    "        x = False\n",
    "    else:\n",
    "         print('Wrong option. Please try again.')\n",
    "          \n",
    "          \n",
    "\n"
   ]
  },
  {
   "cell_type": "markdown",
   "metadata": {},
   "source": [
    "### Questions\n",
    "Please answer the following questions to appraise your level of engagement with the content of the course. Use the Markdown cell corresponding to each question to write your answers."
   ]
  },
  {
   "cell_type": "markdown",
   "metadata": {},
   "source": [
    "1. How would you ensure in your program that the user always inserts the right type of input?\n",
    "\n"
   ]
  },
  {
   "cell_type": "markdown",
   "metadata": {},
   "source": [
    "***Answer***\n",
    "\n",
    "In my opinion, the easier way to make sure that in my program the user always inserts the right type of input would be by inserting the input method in a while loop; use continue when a wrong input is given and break (for breaking out of the loop) when the correct type of input is typed.\n",
    "\n",
    "See code below "
   ]
  },
  {
   "cell_type": "code",
   "execution_count": null,
   "metadata": {},
   "outputs": [],
   "source": [
    "#1. How would you ensure in your program that the user always inserts the right type of input?\n",
    "\n",
    "while True:\n",
    "    try:\n",
    "        age = int(input(\"Please, enter your age: \"))\n",
    "    except ValueError:\n",
    "        print(\"Sorry, I didn't understand that.\")\n",
    "        #try again: return to the start of the loop\n",
    "        continue\n",
    "    else:\n",
    "        #exit the loop.\n",
    "        break\n",
    "if age >= 18: \n",
    "    print(\"You are able to drink in the UK!\")\n",
    "else:\n",
    "    print(\"You are not able to drink in the UK!.\")"
   ]
  },
  {
   "cell_type": "markdown",
   "metadata": {},
   "source": [
    "2. In option 3 you had to create two lists, one for the students and one for the marks. Is there any other data structure in Python that would help you reduce the number of variables and that can facilitate the way to access the marks?.\n"
   ]
  },
  {
   "cell_type": "markdown",
   "metadata": {},
   "source": [
    "***Answer*** \n",
    "\n",
    "This could be done either with a dictionary (see code 1 below ) or with two lists transformed to a dictionary (see code 2 below) or with a numpy array.\n",
    "The only thing that changes is the way they are accessed. In fact, a dictionary is accessed using a key, while a list can be accessed by an int that represents the index of the list starting from 0. While arrays can be indexed using an  slicing syntax. Having said this, among the options that I have presented, I would choose the dictionary as it is the option with which it would be easier to access the marks. "
   ]
  },
  {
   "cell_type": "code",
   "execution_count": null,
   "metadata": {},
   "outputs": [],
   "source": [
    "#ONLY DICTIONARY \n",
    "n = int(input(\"Please enter number of students/ marks that you want to include:\"))\n",
    "all_students = []\n",
    "for i in range(0, n):\n",
    "    stud_name = input('Please, enter a name')\n",
    "    print (stud_name)\n",
    "    mark =input('Enter the marks in subject: ')\n",
    "    print (mark)\n",
    "    if not stud_name in all_students:\n",
    "         all_students.append({\n",
    "                            'Name': stud_name,  \n",
    "                            'Mark': mark,\n",
    "                            })\n",
    "    else:\n",
    "        print ('Try again')\n",
    "print (all_students)"
   ]
  },
  {
   "cell_type": "code",
   "execution_count": null,
   "metadata": {},
   "outputs": [],
   "source": [
    "#LIST TRANSFORM INTO DICTIONARY\n",
    "n = int(input(\"Please enter number of students/ marks that you want to include:\"))\n",
    "all_students = []\n",
    "all_marks= []\n",
    "stud_name=True\n",
    "for i in range(0, n):\n",
    "    while stud_name: \n",
    "        stud_name = input (' Please, enter a name  ' )\n",
    "        if not stud_name in all_students:\n",
    "            all_students.append(stud_name)\n",
    "            break \n",
    "        else:\n",
    "            print('Name already in use please, try again')\n",
    "            stud_name=False         \n",
    "for i in all_students: \n",
    "    mark =float(input ('Enter the marks in subject: '))\n",
    "    all_marks.append(mark)\n",
    "all_marks_students =  dict(zip(all_students,all_marks))\n",
    "print(all_marks_students)\n",
    "\n"
   ]
  }
 ],
 "metadata": {
  "kernelspec": {
   "display_name": "Python 3",
   "language": "python",
   "name": "python3"
  },
  "language_info": {
   "codemirror_mode": {
    "name": "ipython",
    "version": 3
   },
   "file_extension": ".py",
   "mimetype": "text/x-python",
   "name": "python",
   "nbconvert_exporter": "python",
   "pygments_lexer": "ipython3",
   "version": "3.7.3"
  }
 },
 "nbformat": 4,
 "nbformat_minor": 2
}
