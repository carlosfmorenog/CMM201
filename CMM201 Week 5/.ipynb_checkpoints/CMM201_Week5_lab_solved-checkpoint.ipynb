{
 "cells": [
  {
   "cell_type": "markdown",
   "metadata": {},
   "source": [
    "# Week 5 Laboratory\n",
    "\n",
    "In this Jupyter notebook, you modify your \"Main Menu\" created on the last session so that it works with functions. Moreover, you will include a new option to use the *accumulate()* function seen in the lecture. Finally, you will develop a method to link the output of one function with the input of another, verifying that the execution order is correct."
   ]
  },
  {
   "cell_type": "markdown",
   "metadata": {},
   "source": [
    "**First**, test my or your main menu to see that it is working correctly:"
   ]
  },
  {
   "cell_type": "code",
   "execution_count": 1,
   "metadata": {},
   "outputs": [
    {
     "name": "stdout",
     "output_type": "stream",
     "text": [
      "Welcome to my menu. Select an option (1,2,3):\n",
      "4\n",
      "Wrong option. Please try again.\n",
      "Welcome to my menu. Select an option (1,2,3):\n",
      "1\n",
      "Insert a number\n",
      "5\n",
      "The multiples are:\n",
      "5\n",
      "10\n",
      "15\n",
      "20\n",
      "25\n",
      "30\n",
      "35\n",
      "40\n",
      "45\n",
      "50\n",
      "Welcome to my menu. Select an option (1,2,3):\n",
      "2\n",
      "Enter your name\n",
      "Carlos\n",
      "Is it raining?\n",
      "yes\n",
      "Carlos, let's go to the library.\n",
      "Welcome to my menu. Select an option (1,2,3):\n",
      "3\n",
      "Exiting the program\n"
     ]
    }
   ],
   "source": [
    "## The main menu from last week (my version, feel free to use your own!)\n",
    "\n",
    "x = True\n",
    "while x:\n",
    "    print('Welcome to my menu. Select an option (1,2,3):')\n",
    "    x = input()\n",
    "    if x == '1':\n",
    "        print('Insert a number')\n",
    "        n = input()\n",
    "        print('The multiples are:')\n",
    "        for a in list(range(1,11)):\n",
    "            print(a*int(n))\n",
    "    elif x == '2':\n",
    "        print('Enter your name')\n",
    "        name = input()\n",
    "        ans = True\n",
    "        while ans:\n",
    "            print('Is it raining?')\n",
    "            y = input()\n",
    "            if y.lower() == 'yes':\n",
    "                print(name+\", let's go to the library.\")\n",
    "                ans = False\n",
    "            elif y.lower() == 'no':\n",
    "                print(name+\", let's go to the beach.\")\n",
    "                ans = False\n",
    "            else:\n",
    "                print('Wrong option. Please try again.')\n",
    "    elif x == '3':\n",
    "        print('Exiting the program')\n",
    "        x = False\n",
    "    else:\n",
    "        print('Wrong option. Please try again.')"
   ]
  },
  {
   "cell_type": "markdown",
   "metadata": {},
   "source": [
    "## Main menu with functions"
   ]
  },
  {
   "cell_type": "markdown",
   "metadata": {},
   "source": [
    "The first thing you will do is set three cells for functions *option1*, *option2* and *option3*:"
   ]
  },
  {
   "cell_type": "code",
   "execution_count": 4,
   "metadata": {},
   "outputs": [],
   "source": [
    "def option1(n):\n",
    "    '''This function corresponds to option 1 (a list of the first ten multiples of a number).'''\n",
    "    multiples = []\n",
    "    print('The multiples are:')\n",
    "    for a in list(range(1,11)):\n",
    "        print(a*int(n))\n",
    "        multiples.append(a*int(n))\n",
    "    return multiples"
   ]
  },
  {
   "cell_type": "code",
   "execution_count": 5,
   "metadata": {},
   "outputs": [],
   "source": [
    "def option2(name):\n",
    "    '''This function corresponds to option 2 (library/beach).'''\n",
    "    ans = True\n",
    "    while ans:\n",
    "        print('Is it raining?')\n",
    "        y = input()\n",
    "        if y.lower() == 'yes':\n",
    "            print(name+\", let's go to the library.\")\n",
    "            ans = False\n",
    "        elif y.lower() == 'no':\n",
    "            print(name+\", let's go to the beach.\")\n",
    "            ans = False\n",
    "        else:\n",
    "            print('Wrong option. Please try again.')\n",
    "    return"
   ]
  },
  {
   "cell_type": "code",
   "execution_count": 6,
   "metadata": {},
   "outputs": [],
   "source": [
    "def accumulate(numbers, acc=0):\n",
    "    '''This function corresponds to the accumulator.'''\n",
    "    print('The list of numbers is,',numbers)\n",
    "    for n in numbers: \n",
    "        acc = acc + n\n",
    "        print('The accumulated value is', acc)\n",
    "    return acc"
   ]
  },
  {
   "cell_type": "markdown",
   "metadata": {},
   "source": [
    "Then, we need to modify the main menu from last week and see how we can migrate the contents from each option to its respective function. Consider the following:\n",
    "1. Remember that the accumulator function uses a list as its first input. How can we input a list into python? Can we use the *input()* function?\n",
    "2. The second input of the *accumulate()* function is *acc*, which is the value of the accumulator. If option 3 is executed the first time, then the value of *acc* should start as 0, but if it is run a second time, then the function has to use the existing *acc* value!"
   ]
  },
  {
   "cell_type": "code",
   "execution_count": 8,
   "metadata": {},
   "outputs": [
    {
     "name": "stdout",
     "output_type": "stream",
     "text": [
      "Welcome to my menu. Select an option (1,2,3,4):\n",
      "5\n",
      "Wrong option. Please try again.\n",
      "Welcome to my menu. Select an option (1,2,3,4):\n",
      "1\n",
      "Insert a number:\n",
      "5\n",
      "The multiples are:\n",
      "5\n",
      "10\n",
      "15\n",
      "20\n",
      "25\n",
      "30\n",
      "35\n",
      "40\n",
      "45\n",
      "50\n",
      "Welcome to my menu. Select an option (1,2,3,4):\n",
      "2\n",
      "Enter your name:\n",
      "Carlos\n",
      "Is it raining?\n",
      "no\n",
      "Carlos, let's go to the beach.\n",
      "Welcome to my menu. Select an option (1,2,3,4):\n",
      "3\n",
      "Enter a list to accumulate:\n",
      "Enter number of elements : 4\n",
      "1\n",
      "2\n",
      "3\n",
      "4\n",
      "The list of numbers is, [1, 2, 3, 4]\n",
      "The accumulated value is 1\n",
      "The accumulated value is 3\n",
      "The accumulated value is 6\n",
      "The accumulated value is 10\n",
      "Welcome to my menu. Select an option (1,2,3,4):\n",
      "3\n",
      "Enter a list to accumulate:\n",
      "Enter number of elements : 3\n",
      "1\n",
      "2\n",
      "3\n",
      "The list of numbers is, [1, 2, 3]\n",
      "The accumulated value is 11\n",
      "The accumulated value is 13\n",
      "The accumulated value is 16\n",
      "Welcome to my menu. Select an option (1,2,3,4):\n",
      "4\n",
      "Exiting the program\n"
     ]
    }
   ],
   "source": [
    "## The new main menu, now with four options\n",
    "\n",
    "acc = 0\n",
    "x = True\n",
    "while x:\n",
    "    print('Welcome to my menu. Select an option (1,2,3,4):')\n",
    "    x = input()\n",
    "    if x == '1':\n",
    "        print('Insert a number:')\n",
    "        n = input()\n",
    "        multiples = option1(n)\n",
    "    elif x == '2':\n",
    "        print('Enter your name:')\n",
    "        name = input()\n",
    "        option2(name)\n",
    "    elif x == '3':\n",
    "        print('Enter a list to accumulate:')\n",
    "        numbers = []\n",
    "        m = int(input(\"Enter number of elements : \"))\n",
    "        for i in range(0, m): \n",
    "            ele = int(input())   \n",
    "            numbers.append(ele)\n",
    "        acc = accumulate(numbers, acc)\n",
    "    elif x == '4':\n",
    "        print('Exiting the program')\n",
    "        x = False\n",
    "    else:\n",
    "        print('Wrong option. Please try again.')"
   ]
  },
  {
   "cell_type": "markdown",
   "metadata": {},
   "source": [
    "Once you have finished your implementation, run the program by executing the commands 5-1-2-3-3-4 in that order."
   ]
  },
  {
   "cell_type": "markdown",
   "metadata": {},
   "source": [
    "## Linking functionas and verifying order"
   ]
  },
  {
   "cell_type": "markdown",
   "metadata": {},
   "source": [
    "How can we modify the main menu so that the accumulator function (option 3) uses the numbers generated in option 1? For this, you need to consider two things:\n",
    "1. Option 1 should output a list of numbers.\n",
    "2. The program has to verify that option 3 cannot be selected unless option 1 is selected first!"
   ]
  },
  {
   "cell_type": "code",
   "execution_count": 10,
   "metadata": {},
   "outputs": [
    {
     "name": "stdout",
     "output_type": "stream",
     "text": [
      "Welcome to my menu. Select an option (1,2,3,4):\n",
      "5\n",
      "Wrong option. Please try again.\n",
      "Welcome to my menu. Select an option (1,2,3,4):\n",
      "3\n",
      "Select option 1 first.\n",
      "Welcome to my menu. Select an option (1,2,3,4):\n",
      "1\n",
      "Insert a number:\n",
      "3\n",
      "The multiples are:\n",
      "3\n",
      "6\n",
      "9\n",
      "12\n",
      "15\n",
      "18\n",
      "21\n",
      "24\n",
      "27\n",
      "30\n",
      "Welcome to my menu. Select an option (1,2,3,4):\n",
      "2\n",
      "Enter your name:\n",
      "Carlos\n",
      "Is it raining?\n",
      "yes\n",
      "Carlos, let's go to the library.\n",
      "Welcome to my menu. Select an option (1,2,3,4):\n",
      "3\n",
      "The list of numbers is, [3, 6, 9, 12, 15, 18, 21, 24, 27, 30]\n",
      "The accumulated value is 3\n",
      "The accumulated value is 9\n",
      "The accumulated value is 18\n",
      "The accumulated value is 30\n",
      "The accumulated value is 45\n",
      "The accumulated value is 63\n",
      "The accumulated value is 84\n",
      "The accumulated value is 108\n",
      "The accumulated value is 135\n",
      "The accumulated value is 165\n",
      "Welcome to my menu. Select an option (1,2,3,4):\n",
      "3\n",
      "The list of numbers is, [3, 6, 9, 12, 15, 18, 21, 24, 27, 30]\n",
      "The accumulated value is 168\n",
      "The accumulated value is 174\n",
      "The accumulated value is 183\n",
      "The accumulated value is 195\n",
      "The accumulated value is 210\n",
      "The accumulated value is 228\n",
      "The accumulated value is 249\n",
      "The accumulated value is 273\n",
      "The accumulated value is 300\n",
      "The accumulated value is 330\n",
      "Welcome to my menu. Select an option (1,2,3,4):\n",
      "4\n",
      "Exiting the program\n"
     ]
    }
   ],
   "source": [
    "## The new main menu, now linking the output of option 1 to option 3\n",
    "\n",
    "acc = 0\n",
    "options = []\n",
    "x = True\n",
    "while x:\n",
    "    print('Welcome to my menu. Select an option (1,2,3,4):')\n",
    "    x = input()\n",
    "    options.append(x)\n",
    "    if x == '1':\n",
    "        print('Insert a number:')\n",
    "        n = input()\n",
    "        multiples = option1(n)\n",
    "    elif x == '2':\n",
    "        print('Enter your name:')\n",
    "        name = input()\n",
    "        option2(name)\n",
    "    elif x == '3':\n",
    "        if '1' in options:\n",
    "            acc = accumulate(multiples, acc)\n",
    "        else:\n",
    "            print('Select option 1 first.')\n",
    "    elif x == '4':\n",
    "        print('Exiting the program')\n",
    "        x = False\n",
    "    else:\n",
    "        print('Wrong option. Please try again.')"
   ]
  },
  {
   "cell_type": "markdown",
   "metadata": {},
   "source": [
    "Once you have finished your implementation, run the program by executing the commands 5-3-1-2-3-3-4 in that order."
   ]
  }
 ],
 "metadata": {
  "kernelspec": {
   "display_name": "Python 3",
   "language": "python",
   "name": "python3"
  },
  "language_info": {
   "codemirror_mode": {
    "name": "ipython",
    "version": 3
   },
   "file_extension": ".py",
   "mimetype": "text/x-python",
   "name": "python",
   "nbconvert_exporter": "python",
   "pygments_lexer": "ipython3",
   "version": "3.6.4"
  }
 },
 "nbformat": 4,
 "nbformat_minor": 2
}
